{
 "cells": [
  {
   "cell_type": "markdown",
   "metadata": {
    "id": "uOxsWL4fyQ2J"
   },
   "source": [
    "# Aula 1 - Classificação: o que é e como funciona?"
   ]
  },
  {
   "cell_type": "markdown",
   "metadata": {
    "id": "LsoUVpNWyQ2M"
   },
   "source": [
    "## 1.1 - Apresentação\n"
   ]
  },
  {
   "cell_type": "markdown",
   "metadata": {
    "id": "vuZVqaVCyQ2M"
   },
   "source": [
    "## 1.2 - Importando os dados"
   ]
  },
  {
   "cell_type": "code",
   "execution_count": 1,
   "metadata": {
    "executionInfo": {
     "elapsed": 1389,
     "status": "ok",
     "timestamp": 1652934137463,
     "user": {
      "displayName": "Ana Clara Mioto",
      "userId": "02280775085590012326"
     },
     "user_tz": 180
    },
    "id": "EcFx0fP0yQ2N"
   },
   "outputs": [],
   "source": [
    "import pandas as pd"
   ]
  },
  {
   "cell_type": "code",
   "execution_count": 2,
   "metadata": {
    "executionInfo": {
     "elapsed": 6,
     "status": "ok",
     "timestamp": 1652934137464,
     "user": {
      "displayName": "Ana Clara Mioto",
      "userId": "02280775085590012326"
     },
     "user_tz": 180
    },
    "id": "jMxgxTXnyQ2O"
   },
   "outputs": [],
   "source": [
    "dados = pd.read_csv('../Dados/Customer-Churn.csv')"
   ]
  },
  {
   "cell_type": "code",
   "execution_count": 3,
   "metadata": {
    "colab": {
     "base_uri": "https://localhost:8080/"
    },
    "executionInfo": {
     "elapsed": 7,
     "status": "ok",
     "timestamp": 1652934137465,
     "user": {
      "displayName": "Ana Clara Mioto",
      "userId": "02280775085590012326"
     },
     "user_tz": 180
    },
    "id": "neE16a7wyQ2O",
    "outputId": "76398158-4595-4618-b3c7-015fa1e26c80"
   },
   "outputs": [
    {
     "data": {
      "text/plain": [
       "(7043, 18)"
      ]
     },
     "execution_count": 3,
     "metadata": {},
     "output_type": "execute_result"
    }
   ],
   "source": [
    "dados.shape"
   ]
  },
  {
   "cell_type": "code",
   "execution_count": 4,
   "metadata": {
    "colab": {
     "base_uri": "https://localhost:8080/",
     "height": 270
    },
    "executionInfo": {
     "elapsed": 6,
     "status": "ok",
     "timestamp": 1652934137465,
     "user": {
      "displayName": "Ana Clara Mioto",
      "userId": "02280775085590012326"
     },
     "user_tz": 180
    },
    "id": "k_QTfXOSyQ2P",
    "outputId": "1610156a-b23b-4ce6-8479-44456f8db1bf"
   },
   "outputs": [
    {
     "data": {
      "text/html": [
       "<div>\n",
       "<style scoped>\n",
       "    .dataframe tbody tr th:only-of-type {\n",
       "        vertical-align: middle;\n",
       "    }\n",
       "\n",
       "    .dataframe tbody tr th {\n",
       "        vertical-align: top;\n",
       "    }\n",
       "\n",
       "    .dataframe thead th {\n",
       "        text-align: right;\n",
       "    }\n",
       "</style>\n",
       "<table border=\"1\" class=\"dataframe\">\n",
       "  <thead>\n",
       "    <tr style=\"text-align: right;\">\n",
       "      <th></th>\n",
       "      <th>Maior65Anos</th>\n",
       "      <th>Conjuge</th>\n",
       "      <th>Dependentes</th>\n",
       "      <th>MesesDeContrato</th>\n",
       "      <th>TelefoneFixo</th>\n",
       "      <th>VariasLinhasTelefonicas</th>\n",
       "      <th>ServicoDeInternet</th>\n",
       "      <th>SegurancaOnline</th>\n",
       "      <th>BackupOnline</th>\n",
       "      <th>SeguroNoDispositivo</th>\n",
       "      <th>SuporteTecnico</th>\n",
       "      <th>TVaCabo</th>\n",
       "      <th>StreamingDeFilmes</th>\n",
       "      <th>TipoDeContrato</th>\n",
       "      <th>PagamentoOnline</th>\n",
       "      <th>FormaDePagamento</th>\n",
       "      <th>ContaMensal</th>\n",
       "      <th>Churn</th>\n",
       "    </tr>\n",
       "  </thead>\n",
       "  <tbody>\n",
       "    <tr>\n",
       "      <th>0</th>\n",
       "      <td>0</td>\n",
       "      <td>Sim</td>\n",
       "      <td>Nao</td>\n",
       "      <td>1</td>\n",
       "      <td>Nao</td>\n",
       "      <td>SemServicoTelefonico</td>\n",
       "      <td>DSL</td>\n",
       "      <td>Nao</td>\n",
       "      <td>Sim</td>\n",
       "      <td>Nao</td>\n",
       "      <td>Nao</td>\n",
       "      <td>Nao</td>\n",
       "      <td>Nao</td>\n",
       "      <td>Mensalmente</td>\n",
       "      <td>Sim</td>\n",
       "      <td>ChequeDigital</td>\n",
       "      <td>29.85</td>\n",
       "      <td>Nao</td>\n",
       "    </tr>\n",
       "    <tr>\n",
       "      <th>1</th>\n",
       "      <td>0</td>\n",
       "      <td>Nao</td>\n",
       "      <td>Nao</td>\n",
       "      <td>34</td>\n",
       "      <td>Sim</td>\n",
       "      <td>Nao</td>\n",
       "      <td>DSL</td>\n",
       "      <td>Sim</td>\n",
       "      <td>Nao</td>\n",
       "      <td>Sim</td>\n",
       "      <td>Nao</td>\n",
       "      <td>Nao</td>\n",
       "      <td>Nao</td>\n",
       "      <td>UmAno</td>\n",
       "      <td>Nao</td>\n",
       "      <td>ChequePapel</td>\n",
       "      <td>56.95</td>\n",
       "      <td>Nao</td>\n",
       "    </tr>\n",
       "    <tr>\n",
       "      <th>2</th>\n",
       "      <td>0</td>\n",
       "      <td>Nao</td>\n",
       "      <td>Nao</td>\n",
       "      <td>2</td>\n",
       "      <td>Sim</td>\n",
       "      <td>Nao</td>\n",
       "      <td>DSL</td>\n",
       "      <td>Sim</td>\n",
       "      <td>Sim</td>\n",
       "      <td>Nao</td>\n",
       "      <td>Nao</td>\n",
       "      <td>Nao</td>\n",
       "      <td>Nao</td>\n",
       "      <td>Mensalmente</td>\n",
       "      <td>Sim</td>\n",
       "      <td>ChequePapel</td>\n",
       "      <td>53.85</td>\n",
       "      <td>Sim</td>\n",
       "    </tr>\n",
       "    <tr>\n",
       "      <th>3</th>\n",
       "      <td>0</td>\n",
       "      <td>Nao</td>\n",
       "      <td>Nao</td>\n",
       "      <td>45</td>\n",
       "      <td>Nao</td>\n",
       "      <td>SemServicoTelefonico</td>\n",
       "      <td>DSL</td>\n",
       "      <td>Sim</td>\n",
       "      <td>Nao</td>\n",
       "      <td>Sim</td>\n",
       "      <td>Sim</td>\n",
       "      <td>Nao</td>\n",
       "      <td>Nao</td>\n",
       "      <td>UmAno</td>\n",
       "      <td>Nao</td>\n",
       "      <td>DebitoEmConta</td>\n",
       "      <td>42.30</td>\n",
       "      <td>Nao</td>\n",
       "    </tr>\n",
       "    <tr>\n",
       "      <th>4</th>\n",
       "      <td>0</td>\n",
       "      <td>Nao</td>\n",
       "      <td>Nao</td>\n",
       "      <td>2</td>\n",
       "      <td>Sim</td>\n",
       "      <td>Nao</td>\n",
       "      <td>FibraOptica</td>\n",
       "      <td>Nao</td>\n",
       "      <td>Nao</td>\n",
       "      <td>Nao</td>\n",
       "      <td>Nao</td>\n",
       "      <td>Nao</td>\n",
       "      <td>Nao</td>\n",
       "      <td>Mensalmente</td>\n",
       "      <td>Sim</td>\n",
       "      <td>ChequeDigital</td>\n",
       "      <td>70.70</td>\n",
       "      <td>Sim</td>\n",
       "    </tr>\n",
       "  </tbody>\n",
       "</table>\n",
       "</div>"
      ],
      "text/plain": [
       "   Maior65Anos Conjuge Dependentes  MesesDeContrato TelefoneFixo  \\\n",
       "0            0     Sim         Nao                1          Nao   \n",
       "1            0     Nao         Nao               34          Sim   \n",
       "2            0     Nao         Nao                2          Sim   \n",
       "3            0     Nao         Nao               45          Nao   \n",
       "4            0     Nao         Nao                2          Sim   \n",
       "\n",
       "  VariasLinhasTelefonicas ServicoDeInternet SegurancaOnline BackupOnline  \\\n",
       "0    SemServicoTelefonico               DSL             Nao          Sim   \n",
       "1                     Nao               DSL             Sim          Nao   \n",
       "2                     Nao               DSL             Sim          Sim   \n",
       "3    SemServicoTelefonico               DSL             Sim          Nao   \n",
       "4                     Nao       FibraOptica             Nao          Nao   \n",
       "\n",
       "  SeguroNoDispositivo SuporteTecnico TVaCabo StreamingDeFilmes TipoDeContrato  \\\n",
       "0                 Nao            Nao     Nao               Nao    Mensalmente   \n",
       "1                 Sim            Nao     Nao               Nao          UmAno   \n",
       "2                 Nao            Nao     Nao               Nao    Mensalmente   \n",
       "3                 Sim            Sim     Nao               Nao          UmAno   \n",
       "4                 Nao            Nao     Nao               Nao    Mensalmente   \n",
       "\n",
       "  PagamentoOnline FormaDePagamento  ContaMensal Churn  \n",
       "0             Sim    ChequeDigital        29.85   Nao  \n",
       "1             Nao      ChequePapel        56.95   Nao  \n",
       "2             Sim      ChequePapel        53.85   Sim  \n",
       "3             Nao    DebitoEmConta        42.30   Nao  \n",
       "4             Sim    ChequeDigital        70.70   Sim  "
      ]
     },
     "execution_count": 4,
     "metadata": {},
     "output_type": "execute_result"
    }
   ],
   "source": [
    "dados.head()"
   ]
  },
  {
   "cell_type": "markdown",
   "metadata": {
    "id": "V8lNCeRnyQ2P"
   },
   "source": [
    "## 1.3 - Diferentes Variáveis"
   ]
  },
  {
   "cell_type": "code",
   "execution_count": 5,
   "metadata": {
    "colab": {
     "base_uri": "https://localhost:8080/",
     "height": 206
    },
    "executionInfo": {
     "elapsed": 6,
     "status": "ok",
     "timestamp": 1652934137466,
     "user": {
      "displayName": "Ana Clara Mioto",
      "userId": "02280775085590012326"
     },
     "user_tz": 180
    },
    "id": "uQLvJoZ0yQ2Q",
    "outputId": "eff5207e-82b5-49a1-b6b5-201300929646"
   },
   "outputs": [
    {
     "data": {
      "text/html": [
       "<div>\n",
       "<style scoped>\n",
       "    .dataframe tbody tr th:only-of-type {\n",
       "        vertical-align: middle;\n",
       "    }\n",
       "\n",
       "    .dataframe tbody tr th {\n",
       "        vertical-align: top;\n",
       "    }\n",
       "\n",
       "    .dataframe thead th {\n",
       "        text-align: right;\n",
       "    }\n",
       "</style>\n",
       "<table border=\"1\" class=\"dataframe\">\n",
       "  <thead>\n",
       "    <tr style=\"text-align: right;\">\n",
       "      <th></th>\n",
       "      <th>Conjuge</th>\n",
       "      <th>Dependentes</th>\n",
       "      <th>TelefoneFixo</th>\n",
       "      <th>PagamentoOnline</th>\n",
       "      <th>Churn</th>\n",
       "    </tr>\n",
       "  </thead>\n",
       "  <tbody>\n",
       "    <tr>\n",
       "      <th>0</th>\n",
       "      <td>1</td>\n",
       "      <td>0</td>\n",
       "      <td>0</td>\n",
       "      <td>1</td>\n",
       "      <td>0</td>\n",
       "    </tr>\n",
       "    <tr>\n",
       "      <th>1</th>\n",
       "      <td>0</td>\n",
       "      <td>0</td>\n",
       "      <td>1</td>\n",
       "      <td>0</td>\n",
       "      <td>0</td>\n",
       "    </tr>\n",
       "    <tr>\n",
       "      <th>2</th>\n",
       "      <td>0</td>\n",
       "      <td>0</td>\n",
       "      <td>1</td>\n",
       "      <td>1</td>\n",
       "      <td>1</td>\n",
       "    </tr>\n",
       "    <tr>\n",
       "      <th>3</th>\n",
       "      <td>0</td>\n",
       "      <td>0</td>\n",
       "      <td>0</td>\n",
       "      <td>0</td>\n",
       "      <td>0</td>\n",
       "    </tr>\n",
       "    <tr>\n",
       "      <th>4</th>\n",
       "      <td>0</td>\n",
       "      <td>0</td>\n",
       "      <td>1</td>\n",
       "      <td>1</td>\n",
       "      <td>1</td>\n",
       "    </tr>\n",
       "  </tbody>\n",
       "</table>\n",
       "</div>"
      ],
      "text/plain": [
       "   Conjuge  Dependentes  TelefoneFixo  PagamentoOnline  Churn\n",
       "0        1            0             0                1      0\n",
       "1        0            0             1                0      0\n",
       "2        0            0             1                1      1\n",
       "3        0            0             0                0      0\n",
       "4        0            0             1                1      1"
      ]
     },
     "execution_count": 5,
     "metadata": {},
     "output_type": "execute_result"
    }
   ],
   "source": [
    "#modificação de forma manual \n",
    "traducao_dic = {'Sim': 1, \n",
    "                'Nao': 0}\n",
    "\n",
    "dadosmodificados = dados[['Conjuge', 'Dependentes', 'TelefoneFixo', 'PagamentoOnline', 'Churn']].replace(traducao_dic)\n",
    "dadosmodificados.head()"
   ]
  },
  {
   "cell_type": "code",
   "execution_count": 6,
   "metadata": {
    "executionInfo": {
     "elapsed": 5,
     "status": "ok",
     "timestamp": 1652934137466,
     "user": {
      "displayName": "Ana Clara Mioto",
      "userId": "02280775085590012326"
     },
     "user_tz": 180
    },
    "id": "0Dc3-8wayQ2R"
   },
   "outputs": [],
   "source": [
    "#transformação pelo get_dummies\n",
    "dummie_dados = pd.get_dummies(dados.drop(['Conjuge', 'Dependentes', 'TelefoneFixo', 'PagamentoOnline', 'Churn'],\n",
    "                axis=1))\n",
    "\n",
    "#junção dos dados trasformados com os que já tinhamos\n",
    "dados_final = pd.concat([dadosmodificados, dummie_dados], axis=1)"
   ]
  },
  {
   "cell_type": "code",
   "execution_count": 7,
   "metadata": {
    "colab": {
     "base_uri": "https://localhost:8080/",
     "height": 300
    },
    "executionInfo": {
     "elapsed": 399,
     "status": "ok",
     "timestamp": 1652934137860,
     "user": {
      "displayName": "Ana Clara Mioto",
      "userId": "02280775085590012326"
     },
     "user_tz": 180
    },
    "id": "UmQrjUnh08vu",
    "outputId": "220aa24f-016c-4f9d-ce34-2928766087d2"
   },
   "outputs": [
    {
     "data": {
      "text/html": [
       "<div>\n",
       "<style scoped>\n",
       "    .dataframe tbody tr th:only-of-type {\n",
       "        vertical-align: middle;\n",
       "    }\n",
       "\n",
       "    .dataframe tbody tr th {\n",
       "        vertical-align: top;\n",
       "    }\n",
       "\n",
       "    .dataframe thead th {\n",
       "        text-align: right;\n",
       "    }\n",
       "</style>\n",
       "<table border=\"1\" class=\"dataframe\">\n",
       "  <thead>\n",
       "    <tr style=\"text-align: right;\">\n",
       "      <th></th>\n",
       "      <th>Conjuge</th>\n",
       "      <th>Dependentes</th>\n",
       "      <th>TelefoneFixo</th>\n",
       "      <th>PagamentoOnline</th>\n",
       "      <th>Churn</th>\n",
       "      <th>Maior65Anos</th>\n",
       "      <th>MesesDeContrato</th>\n",
       "      <th>ContaMensal</th>\n",
       "      <th>VariasLinhasTelefonicas_Nao</th>\n",
       "      <th>VariasLinhasTelefonicas_SemServicoTelefonico</th>\n",
       "      <th>...</th>\n",
       "      <th>StreamingDeFilmes_Nao</th>\n",
       "      <th>StreamingDeFilmes_SemServicoDeInternet</th>\n",
       "      <th>StreamingDeFilmes_Sim</th>\n",
       "      <th>TipoDeContrato_DoisAnos</th>\n",
       "      <th>TipoDeContrato_Mensalmente</th>\n",
       "      <th>TipoDeContrato_UmAno</th>\n",
       "      <th>FormaDePagamento_CartaoDeCredito</th>\n",
       "      <th>FormaDePagamento_ChequeDigital</th>\n",
       "      <th>FormaDePagamento_ChequePapel</th>\n",
       "      <th>FormaDePagamento_DebitoEmConta</th>\n",
       "    </tr>\n",
       "  </thead>\n",
       "  <tbody>\n",
       "    <tr>\n",
       "      <th>0</th>\n",
       "      <td>1</td>\n",
       "      <td>0</td>\n",
       "      <td>0</td>\n",
       "      <td>1</td>\n",
       "      <td>0</td>\n",
       "      <td>0</td>\n",
       "      <td>1</td>\n",
       "      <td>29.85</td>\n",
       "      <td>0</td>\n",
       "      <td>1</td>\n",
       "      <td>...</td>\n",
       "      <td>1</td>\n",
       "      <td>0</td>\n",
       "      <td>0</td>\n",
       "      <td>0</td>\n",
       "      <td>1</td>\n",
       "      <td>0</td>\n",
       "      <td>0</td>\n",
       "      <td>1</td>\n",
       "      <td>0</td>\n",
       "      <td>0</td>\n",
       "    </tr>\n",
       "    <tr>\n",
       "      <th>1</th>\n",
       "      <td>0</td>\n",
       "      <td>0</td>\n",
       "      <td>1</td>\n",
       "      <td>0</td>\n",
       "      <td>0</td>\n",
       "      <td>0</td>\n",
       "      <td>34</td>\n",
       "      <td>56.95</td>\n",
       "      <td>1</td>\n",
       "      <td>0</td>\n",
       "      <td>...</td>\n",
       "      <td>1</td>\n",
       "      <td>0</td>\n",
       "      <td>0</td>\n",
       "      <td>0</td>\n",
       "      <td>0</td>\n",
       "      <td>1</td>\n",
       "      <td>0</td>\n",
       "      <td>0</td>\n",
       "      <td>1</td>\n",
       "      <td>0</td>\n",
       "    </tr>\n",
       "    <tr>\n",
       "      <th>2</th>\n",
       "      <td>0</td>\n",
       "      <td>0</td>\n",
       "      <td>1</td>\n",
       "      <td>1</td>\n",
       "      <td>1</td>\n",
       "      <td>0</td>\n",
       "      <td>2</td>\n",
       "      <td>53.85</td>\n",
       "      <td>1</td>\n",
       "      <td>0</td>\n",
       "      <td>...</td>\n",
       "      <td>1</td>\n",
       "      <td>0</td>\n",
       "      <td>0</td>\n",
       "      <td>0</td>\n",
       "      <td>1</td>\n",
       "      <td>0</td>\n",
       "      <td>0</td>\n",
       "      <td>0</td>\n",
       "      <td>1</td>\n",
       "      <td>0</td>\n",
       "    </tr>\n",
       "    <tr>\n",
       "      <th>3</th>\n",
       "      <td>0</td>\n",
       "      <td>0</td>\n",
       "      <td>0</td>\n",
       "      <td>0</td>\n",
       "      <td>0</td>\n",
       "      <td>0</td>\n",
       "      <td>45</td>\n",
       "      <td>42.30</td>\n",
       "      <td>0</td>\n",
       "      <td>1</td>\n",
       "      <td>...</td>\n",
       "      <td>1</td>\n",
       "      <td>0</td>\n",
       "      <td>0</td>\n",
       "      <td>0</td>\n",
       "      <td>0</td>\n",
       "      <td>1</td>\n",
       "      <td>0</td>\n",
       "      <td>0</td>\n",
       "      <td>0</td>\n",
       "      <td>1</td>\n",
       "    </tr>\n",
       "    <tr>\n",
       "      <th>4</th>\n",
       "      <td>0</td>\n",
       "      <td>0</td>\n",
       "      <td>1</td>\n",
       "      <td>1</td>\n",
       "      <td>1</td>\n",
       "      <td>0</td>\n",
       "      <td>2</td>\n",
       "      <td>70.70</td>\n",
       "      <td>1</td>\n",
       "      <td>0</td>\n",
       "      <td>...</td>\n",
       "      <td>1</td>\n",
       "      <td>0</td>\n",
       "      <td>0</td>\n",
       "      <td>0</td>\n",
       "      <td>1</td>\n",
       "      <td>0</td>\n",
       "      <td>0</td>\n",
       "      <td>1</td>\n",
       "      <td>0</td>\n",
       "      <td>0</td>\n",
       "    </tr>\n",
       "  </tbody>\n",
       "</table>\n",
       "<p>5 rows × 39 columns</p>\n",
       "</div>"
      ],
      "text/plain": [
       "   Conjuge  Dependentes  TelefoneFixo  PagamentoOnline  Churn  Maior65Anos  \\\n",
       "0        1            0             0                1      0            0   \n",
       "1        0            0             1                0      0            0   \n",
       "2        0            0             1                1      1            0   \n",
       "3        0            0             0                0      0            0   \n",
       "4        0            0             1                1      1            0   \n",
       "\n",
       "   MesesDeContrato  ContaMensal  VariasLinhasTelefonicas_Nao  \\\n",
       "0                1        29.85                            0   \n",
       "1               34        56.95                            1   \n",
       "2                2        53.85                            1   \n",
       "3               45        42.30                            0   \n",
       "4                2        70.70                            1   \n",
       "\n",
       "   VariasLinhasTelefonicas_SemServicoTelefonico  ...  StreamingDeFilmes_Nao  \\\n",
       "0                                             1  ...                      1   \n",
       "1                                             0  ...                      1   \n",
       "2                                             0  ...                      1   \n",
       "3                                             1  ...                      1   \n",
       "4                                             0  ...                      1   \n",
       "\n",
       "   StreamingDeFilmes_SemServicoDeInternet  StreamingDeFilmes_Sim  \\\n",
       "0                                       0                      0   \n",
       "1                                       0                      0   \n",
       "2                                       0                      0   \n",
       "3                                       0                      0   \n",
       "4                                       0                      0   \n",
       "\n",
       "   TipoDeContrato_DoisAnos  TipoDeContrato_Mensalmente  TipoDeContrato_UmAno  \\\n",
       "0                        0                           1                     0   \n",
       "1                        0                           0                     1   \n",
       "2                        0                           1                     0   \n",
       "3                        0                           0                     1   \n",
       "4                        0                           1                     0   \n",
       "\n",
       "   FormaDePagamento_CartaoDeCredito  FormaDePagamento_ChequeDigital  \\\n",
       "0                                 0                               1   \n",
       "1                                 0                               0   \n",
       "2                                 0                               0   \n",
       "3                                 0                               0   \n",
       "4                                 0                               1   \n",
       "\n",
       "   FormaDePagamento_ChequePapel  FormaDePagamento_DebitoEmConta  \n",
       "0                             0                               0  \n",
       "1                             1                               0  \n",
       "2                             1                               0  \n",
       "3                             0                               1  \n",
       "4                             0                               0  \n",
       "\n",
       "[5 rows x 39 columns]"
      ]
     },
     "execution_count": 7,
     "metadata": {},
     "output_type": "execute_result"
    }
   ],
   "source": [
    "dados_final.head()"
   ]
  },
  {
   "cell_type": "markdown",
   "metadata": {
    "id": "B1O1hFa-3wr9"
   },
   "source": [
    "## 1.4 - Definição Informal\n",
    "\n",
    "(slides)"
   ]
  },
  {
   "cell_type": "markdown",
   "metadata": {
    "id": "D1YLHA3h37s1"
   },
   "source": [
    "## 1.5 - Definição Formal"
   ]
  },
  {
   "cell_type": "markdown",
   "metadata": {
    "id": "sSgnt7QWM5rm"
   },
   "source": [
    "Informações para classificação:\n",
    "\n",
    "$X$ = inputs (dados de entrada)\n",
    "\n",
    "$y$ = outputs (dados de saída)"
   ]
  },
  {
   "cell_type": "code",
   "execution_count": 8,
   "metadata": {
    "executionInfo": {
     "elapsed": 6,
     "status": "ok",
     "timestamp": 1652934137861,
     "user": {
      "displayName": "Ana Clara Mioto",
      "userId": "02280775085590012326"
     },
     "user_tz": 180
    },
    "id": "k_o0S4UyOqzd"
   },
   "outputs": [],
   "source": [
    "#DICA\n",
    "pd.set_option('display.max_columns', 39)"
   ]
  },
  {
   "cell_type": "code",
   "execution_count": 9,
   "metadata": {
    "colab": {
     "base_uri": "https://localhost:8080/",
     "height": 270
    },
    "executionInfo": {
     "elapsed": 6,
     "status": "ok",
     "timestamp": 1652934137861,
     "user": {
      "displayName": "Ana Clara Mioto",
      "userId": "02280775085590012326"
     },
     "user_tz": 180
    },
    "id": "oiHVlSC737NE",
    "outputId": "04517f72-9c16-4a45-9a21-11ef1f9d85df"
   },
   "outputs": [
    {
     "data": {
      "text/html": [
       "<div>\n",
       "<style scoped>\n",
       "    .dataframe tbody tr th:only-of-type {\n",
       "        vertical-align: middle;\n",
       "    }\n",
       "\n",
       "    .dataframe tbody tr th {\n",
       "        vertical-align: top;\n",
       "    }\n",
       "\n",
       "    .dataframe thead th {\n",
       "        text-align: right;\n",
       "    }\n",
       "</style>\n",
       "<table border=\"1\" class=\"dataframe\">\n",
       "  <thead>\n",
       "    <tr style=\"text-align: right;\">\n",
       "      <th></th>\n",
       "      <th>Conjuge</th>\n",
       "      <th>Dependentes</th>\n",
       "      <th>TelefoneFixo</th>\n",
       "      <th>PagamentoOnline</th>\n",
       "      <th>Churn</th>\n",
       "      <th>Maior65Anos</th>\n",
       "      <th>MesesDeContrato</th>\n",
       "      <th>ContaMensal</th>\n",
       "      <th>VariasLinhasTelefonicas_Nao</th>\n",
       "      <th>VariasLinhasTelefonicas_SemServicoTelefonico</th>\n",
       "      <th>VariasLinhasTelefonicas_Sim</th>\n",
       "      <th>ServicoDeInternet_DSL</th>\n",
       "      <th>ServicoDeInternet_FibraOptica</th>\n",
       "      <th>ServicoDeInternet_Nao</th>\n",
       "      <th>SegurancaOnline_Nao</th>\n",
       "      <th>SegurancaOnline_SemServicoDeInternet</th>\n",
       "      <th>SegurancaOnline_Sim</th>\n",
       "      <th>BackupOnline_Nao</th>\n",
       "      <th>BackupOnline_SemServicoDeInternet</th>\n",
       "      <th>BackupOnline_Sim</th>\n",
       "      <th>SeguroNoDispositivo_Nao</th>\n",
       "      <th>SeguroNoDispositivo_SemServicoDeInternet</th>\n",
       "      <th>SeguroNoDispositivo_Sim</th>\n",
       "      <th>SuporteTecnico_Nao</th>\n",
       "      <th>SuporteTecnico_SemServicoDeInternet</th>\n",
       "      <th>SuporteTecnico_Sim</th>\n",
       "      <th>TVaCabo_Nao</th>\n",
       "      <th>TVaCabo_SemServicoDeInternet</th>\n",
       "      <th>TVaCabo_Sim</th>\n",
       "      <th>StreamingDeFilmes_Nao</th>\n",
       "      <th>StreamingDeFilmes_SemServicoDeInternet</th>\n",
       "      <th>StreamingDeFilmes_Sim</th>\n",
       "      <th>TipoDeContrato_DoisAnos</th>\n",
       "      <th>TipoDeContrato_Mensalmente</th>\n",
       "      <th>TipoDeContrato_UmAno</th>\n",
       "      <th>FormaDePagamento_CartaoDeCredito</th>\n",
       "      <th>FormaDePagamento_ChequeDigital</th>\n",
       "      <th>FormaDePagamento_ChequePapel</th>\n",
       "      <th>FormaDePagamento_DebitoEmConta</th>\n",
       "    </tr>\n",
       "  </thead>\n",
       "  <tbody>\n",
       "    <tr>\n",
       "      <th>0</th>\n",
       "      <td>1</td>\n",
       "      <td>0</td>\n",
       "      <td>0</td>\n",
       "      <td>1</td>\n",
       "      <td>0</td>\n",
       "      <td>0</td>\n",
       "      <td>1</td>\n",
       "      <td>29.85</td>\n",
       "      <td>0</td>\n",
       "      <td>1</td>\n",
       "      <td>0</td>\n",
       "      <td>1</td>\n",
       "      <td>0</td>\n",
       "      <td>0</td>\n",
       "      <td>1</td>\n",
       "      <td>0</td>\n",
       "      <td>0</td>\n",
       "      <td>0</td>\n",
       "      <td>0</td>\n",
       "      <td>1</td>\n",
       "      <td>1</td>\n",
       "      <td>0</td>\n",
       "      <td>0</td>\n",
       "      <td>1</td>\n",
       "      <td>0</td>\n",
       "      <td>0</td>\n",
       "      <td>1</td>\n",
       "      <td>0</td>\n",
       "      <td>0</td>\n",
       "      <td>1</td>\n",
       "      <td>0</td>\n",
       "      <td>0</td>\n",
       "      <td>0</td>\n",
       "      <td>1</td>\n",
       "      <td>0</td>\n",
       "      <td>0</td>\n",
       "      <td>1</td>\n",
       "      <td>0</td>\n",
       "      <td>0</td>\n",
       "    </tr>\n",
       "    <tr>\n",
       "      <th>1</th>\n",
       "      <td>0</td>\n",
       "      <td>0</td>\n",
       "      <td>1</td>\n",
       "      <td>0</td>\n",
       "      <td>0</td>\n",
       "      <td>0</td>\n",
       "      <td>34</td>\n",
       "      <td>56.95</td>\n",
       "      <td>1</td>\n",
       "      <td>0</td>\n",
       "      <td>0</td>\n",
       "      <td>1</td>\n",
       "      <td>0</td>\n",
       "      <td>0</td>\n",
       "      <td>0</td>\n",
       "      <td>0</td>\n",
       "      <td>1</td>\n",
       "      <td>1</td>\n",
       "      <td>0</td>\n",
       "      <td>0</td>\n",
       "      <td>0</td>\n",
       "      <td>0</td>\n",
       "      <td>1</td>\n",
       "      <td>1</td>\n",
       "      <td>0</td>\n",
       "      <td>0</td>\n",
       "      <td>1</td>\n",
       "      <td>0</td>\n",
       "      <td>0</td>\n",
       "      <td>1</td>\n",
       "      <td>0</td>\n",
       "      <td>0</td>\n",
       "      <td>0</td>\n",
       "      <td>0</td>\n",
       "      <td>1</td>\n",
       "      <td>0</td>\n",
       "      <td>0</td>\n",
       "      <td>1</td>\n",
       "      <td>0</td>\n",
       "    </tr>\n",
       "    <tr>\n",
       "      <th>2</th>\n",
       "      <td>0</td>\n",
       "      <td>0</td>\n",
       "      <td>1</td>\n",
       "      <td>1</td>\n",
       "      <td>1</td>\n",
       "      <td>0</td>\n",
       "      <td>2</td>\n",
       "      <td>53.85</td>\n",
       "      <td>1</td>\n",
       "      <td>0</td>\n",
       "      <td>0</td>\n",
       "      <td>1</td>\n",
       "      <td>0</td>\n",
       "      <td>0</td>\n",
       "      <td>0</td>\n",
       "      <td>0</td>\n",
       "      <td>1</td>\n",
       "      <td>0</td>\n",
       "      <td>0</td>\n",
       "      <td>1</td>\n",
       "      <td>1</td>\n",
       "      <td>0</td>\n",
       "      <td>0</td>\n",
       "      <td>1</td>\n",
       "      <td>0</td>\n",
       "      <td>0</td>\n",
       "      <td>1</td>\n",
       "      <td>0</td>\n",
       "      <td>0</td>\n",
       "      <td>1</td>\n",
       "      <td>0</td>\n",
       "      <td>0</td>\n",
       "      <td>0</td>\n",
       "      <td>1</td>\n",
       "      <td>0</td>\n",
       "      <td>0</td>\n",
       "      <td>0</td>\n",
       "      <td>1</td>\n",
       "      <td>0</td>\n",
       "    </tr>\n",
       "    <tr>\n",
       "      <th>3</th>\n",
       "      <td>0</td>\n",
       "      <td>0</td>\n",
       "      <td>0</td>\n",
       "      <td>0</td>\n",
       "      <td>0</td>\n",
       "      <td>0</td>\n",
       "      <td>45</td>\n",
       "      <td>42.30</td>\n",
       "      <td>0</td>\n",
       "      <td>1</td>\n",
       "      <td>0</td>\n",
       "      <td>1</td>\n",
       "      <td>0</td>\n",
       "      <td>0</td>\n",
       "      <td>0</td>\n",
       "      <td>0</td>\n",
       "      <td>1</td>\n",
       "      <td>1</td>\n",
       "      <td>0</td>\n",
       "      <td>0</td>\n",
       "      <td>0</td>\n",
       "      <td>0</td>\n",
       "      <td>1</td>\n",
       "      <td>0</td>\n",
       "      <td>0</td>\n",
       "      <td>1</td>\n",
       "      <td>1</td>\n",
       "      <td>0</td>\n",
       "      <td>0</td>\n",
       "      <td>1</td>\n",
       "      <td>0</td>\n",
       "      <td>0</td>\n",
       "      <td>0</td>\n",
       "      <td>0</td>\n",
       "      <td>1</td>\n",
       "      <td>0</td>\n",
       "      <td>0</td>\n",
       "      <td>0</td>\n",
       "      <td>1</td>\n",
       "    </tr>\n",
       "    <tr>\n",
       "      <th>4</th>\n",
       "      <td>0</td>\n",
       "      <td>0</td>\n",
       "      <td>1</td>\n",
       "      <td>1</td>\n",
       "      <td>1</td>\n",
       "      <td>0</td>\n",
       "      <td>2</td>\n",
       "      <td>70.70</td>\n",
       "      <td>1</td>\n",
       "      <td>0</td>\n",
       "      <td>0</td>\n",
       "      <td>0</td>\n",
       "      <td>1</td>\n",
       "      <td>0</td>\n",
       "      <td>1</td>\n",
       "      <td>0</td>\n",
       "      <td>0</td>\n",
       "      <td>1</td>\n",
       "      <td>0</td>\n",
       "      <td>0</td>\n",
       "      <td>1</td>\n",
       "      <td>0</td>\n",
       "      <td>0</td>\n",
       "      <td>1</td>\n",
       "      <td>0</td>\n",
       "      <td>0</td>\n",
       "      <td>1</td>\n",
       "      <td>0</td>\n",
       "      <td>0</td>\n",
       "      <td>1</td>\n",
       "      <td>0</td>\n",
       "      <td>0</td>\n",
       "      <td>0</td>\n",
       "      <td>1</td>\n",
       "      <td>0</td>\n",
       "      <td>0</td>\n",
       "      <td>1</td>\n",
       "      <td>0</td>\n",
       "      <td>0</td>\n",
       "    </tr>\n",
       "  </tbody>\n",
       "</table>\n",
       "</div>"
      ],
      "text/plain": [
       "   Conjuge  Dependentes  TelefoneFixo  PagamentoOnline  Churn  Maior65Anos  \\\n",
       "0        1            0             0                1      0            0   \n",
       "1        0            0             1                0      0            0   \n",
       "2        0            0             1                1      1            0   \n",
       "3        0            0             0                0      0            0   \n",
       "4        0            0             1                1      1            0   \n",
       "\n",
       "   MesesDeContrato  ContaMensal  VariasLinhasTelefonicas_Nao  \\\n",
       "0                1        29.85                            0   \n",
       "1               34        56.95                            1   \n",
       "2                2        53.85                            1   \n",
       "3               45        42.30                            0   \n",
       "4                2        70.70                            1   \n",
       "\n",
       "   VariasLinhasTelefonicas_SemServicoTelefonico  VariasLinhasTelefonicas_Sim  \\\n",
       "0                                             1                            0   \n",
       "1                                             0                            0   \n",
       "2                                             0                            0   \n",
       "3                                             1                            0   \n",
       "4                                             0                            0   \n",
       "\n",
       "   ServicoDeInternet_DSL  ServicoDeInternet_FibraOptica  \\\n",
       "0                      1                              0   \n",
       "1                      1                              0   \n",
       "2                      1                              0   \n",
       "3                      1                              0   \n",
       "4                      0                              1   \n",
       "\n",
       "   ServicoDeInternet_Nao  SegurancaOnline_Nao  \\\n",
       "0                      0                    1   \n",
       "1                      0                    0   \n",
       "2                      0                    0   \n",
       "3                      0                    0   \n",
       "4                      0                    1   \n",
       "\n",
       "   SegurancaOnline_SemServicoDeInternet  SegurancaOnline_Sim  \\\n",
       "0                                     0                    0   \n",
       "1                                     0                    1   \n",
       "2                                     0                    1   \n",
       "3                                     0                    1   \n",
       "4                                     0                    0   \n",
       "\n",
       "   BackupOnline_Nao  BackupOnline_SemServicoDeInternet  BackupOnline_Sim  \\\n",
       "0                 0                                  0                 1   \n",
       "1                 1                                  0                 0   \n",
       "2                 0                                  0                 1   \n",
       "3                 1                                  0                 0   \n",
       "4                 1                                  0                 0   \n",
       "\n",
       "   SeguroNoDispositivo_Nao  SeguroNoDispositivo_SemServicoDeInternet  \\\n",
       "0                        1                                         0   \n",
       "1                        0                                         0   \n",
       "2                        1                                         0   \n",
       "3                        0                                         0   \n",
       "4                        1                                         0   \n",
       "\n",
       "   SeguroNoDispositivo_Sim  SuporteTecnico_Nao  \\\n",
       "0                        0                   1   \n",
       "1                        1                   1   \n",
       "2                        0                   1   \n",
       "3                        1                   0   \n",
       "4                        0                   1   \n",
       "\n",
       "   SuporteTecnico_SemServicoDeInternet  SuporteTecnico_Sim  TVaCabo_Nao  \\\n",
       "0                                    0                   0            1   \n",
       "1                                    0                   0            1   \n",
       "2                                    0                   0            1   \n",
       "3                                    0                   1            1   \n",
       "4                                    0                   0            1   \n",
       "\n",
       "   TVaCabo_SemServicoDeInternet  TVaCabo_Sim  StreamingDeFilmes_Nao  \\\n",
       "0                             0            0                      1   \n",
       "1                             0            0                      1   \n",
       "2                             0            0                      1   \n",
       "3                             0            0                      1   \n",
       "4                             0            0                      1   \n",
       "\n",
       "   StreamingDeFilmes_SemServicoDeInternet  StreamingDeFilmes_Sim  \\\n",
       "0                                       0                      0   \n",
       "1                                       0                      0   \n",
       "2                                       0                      0   \n",
       "3                                       0                      0   \n",
       "4                                       0                      0   \n",
       "\n",
       "   TipoDeContrato_DoisAnos  TipoDeContrato_Mensalmente  TipoDeContrato_UmAno  \\\n",
       "0                        0                           1                     0   \n",
       "1                        0                           0                     1   \n",
       "2                        0                           1                     0   \n",
       "3                        0                           0                     1   \n",
       "4                        0                           1                     0   \n",
       "\n",
       "   FormaDePagamento_CartaoDeCredito  FormaDePagamento_ChequeDigital  \\\n",
       "0                                 0                               1   \n",
       "1                                 0                               0   \n",
       "2                                 0                               0   \n",
       "3                                 0                               0   \n",
       "4                                 0                               1   \n",
       "\n",
       "   FormaDePagamento_ChequePapel  FormaDePagamento_DebitoEmConta  \n",
       "0                             0                               0  \n",
       "1                             1                               0  \n",
       "2                             1                               0  \n",
       "3                             0                               1  \n",
       "4                             0                               0  "
      ]
     },
     "execution_count": 9,
     "metadata": {},
     "output_type": "execute_result"
    }
   ],
   "source": [
    "dados_final.head()"
   ]
  },
  {
   "cell_type": "markdown",
   "metadata": {
    "id": "mlxxn4VYTQnV"
   },
   "source": [
    "\n",
    "$y_i$ = $f(x_i)$"
   ]
  },
  {
   "cell_type": "code",
   "execution_count": 10,
   "metadata": {
    "executionInfo": {
     "elapsed": 6,
     "status": "ok",
     "timestamp": 1652934137862,
     "user": {
      "displayName": "Ana Clara Mioto",
      "userId": "02280775085590012326"
     },
     "user_tz": 180
    },
    "id": "JVqSH1yp4Cq2"
   },
   "outputs": [],
   "source": [
    "Xmaria = [[0,0,1,1,0,0,39.90,1,0,0,0,1,0,1,0,0,0,0,1,1,1,0,0,1,0,1,0,0,0,0,1,0,0,1,0,0,0,1]]"
   ]
  },
  {
   "cell_type": "code",
   "execution_count": 11,
   "metadata": {
    "executionInfo": {
     "elapsed": 6,
     "status": "ok",
     "timestamp": 1652934137862,
     "user": {
      "displayName": "Ana Clara Mioto",
      "userId": "02280775085590012326"
     },
     "user_tz": 180
    },
    "id": "1Btl3Wct4CoN"
   },
   "outputs": [],
   "source": [
    "#ymaria = ?"
   ]
  },
  {
   "cell_type": "markdown",
   "metadata": {
    "id": "n4nyxwPFTncE"
   },
   "source": [
    "Novos pares de informações = ($Xmaria$, $ymaria$)"
   ]
  },
  {
   "cell_type": "markdown",
   "metadata": {
    "id": "zCcuXt0FZfNe"
   },
   "source": [
    "## Balanceamento dos dados"
   ]
  },
  {
   "cell_type": "code",
   "execution_count": 12,
   "metadata": {
    "colab": {
     "base_uri": "https://localhost:8080/",
     "height": 0
    },
    "executionInfo": {
     "elapsed": 490,
     "status": "ok",
     "timestamp": 1652934138347,
     "user": {
      "displayName": "Ana Clara Mioto",
      "userId": "02280775085590012326"
     },
     "user_tz": 180
    },
    "id": "PZ98-642QERQ",
    "outputId": "effcd349-a5cd-4d6b-a40f-48819638ce70"
   },
   "outputs": [
    {
     "data": {
      "image/png": "[encoded data removed]",
      "text/plain": [
       "<Figure size 432x288 with 1 Axes>"
      ]
     },
     "metadata": {
      "needs_background": "light"
     },
     "output_type": "display_data"
    }
   ],
   "source": [
    "#variável target está desbalanceada\n",
    "import seaborn as sns\n",
    "%matplotlib inline\n",
    "ax = sns.countplot(x='Churn', data=dados_final)"
   ]
  },
  {
   "cell_type": "code",
   "execution_count": 13,
   "metadata": {
    "colab": {
     "base_uri": "https://localhost:8080/"
    },
    "executionInfo": {
     "elapsed": 5,
     "status": "ok",
     "timestamp": 1652934138348,
     "user": {
      "displayName": "Ana Clara Mioto",
      "userId": "02280775085590012326"
     },
     "user_tz": 180
    },
    "id": "tDmNwxUGQt0U",
    "outputId": "05e18b50-1db7-4ba9-b26f-0991fa0ff739"
   },
   "outputs": [
    {
     "data": {
      "text/plain": [
       "0    5174\n",
       "1    1869\n",
       "Name: Churn, dtype: int64"
      ]
     },
     "execution_count": 13,
     "metadata": {},
     "output_type": "execute_result"
    }
   ],
   "source": [
    "dados_final.Churn.value_counts()"
   ]
  },
  {
   "cell_type": "code",
   "execution_count": 14,
   "metadata": {
    "executionInfo": {
     "elapsed": 700,
     "status": "ok",
     "timestamp": 1652934139044,
     "user": {
      "displayName": "Ana Clara Mioto",
      "userId": "02280775085590012326"
     },
     "user_tz": 180
    },
    "id": "TcFY4SXuZyIO"
   },
   "outputs": [],
   "source": [
    "#biblioteca para balancear os dados utilizando over_sampling\n",
    "from imblearn.over_sampling import SMOTE"
   ]
  },
  {
   "cell_type": "code",
   "execution_count": 15,
   "metadata": {
    "executionInfo": {
     "elapsed": 5,
     "status": "ok",
     "timestamp": 1652934139044,
     "user": {
      "displayName": "Ana Clara Mioto",
      "userId": "02280775085590012326"
     },
     "user_tz": 180
    },
    "id": "0-I2aDVhQUdu"
   },
   "outputs": [],
   "source": [
    "#dividindo os dados em caracteristicas e target\n",
    "X = dados_final.drop('Churn', axis = 1)\n",
    "y = dados_final['Churn']"
   ]
  },
  {
   "cell_type": "code",
   "execution_count": 16,
   "metadata": {
    "executionInfo": {
     "elapsed": 243,
     "status": "ok",
     "timestamp": 1652934139283,
     "user": {
      "displayName": "Ana Clara Mioto",
      "userId": "02280775085590012326"
     },
     "user_tz": 180
    },
    "id": "5lIY03boZyBN"
   },
   "outputs": [],
   "source": [
    "smt = SMOTE(random_state=123)\n",
    "X, y = smt.fit_resample(X, y)"
   ]
  },
  {
   "cell_type": "code",
   "execution_count": 17,
   "metadata": {
    "executionInfo": {
     "elapsed": 11,
     "status": "ok",
     "timestamp": 1652934139284,
     "user": {
      "displayName": "Ana Clara Mioto",
      "userId": "02280775085590012326"
     },
     "user_tz": 180
    },
    "id": "bnlqzLVUZl0u"
   },
   "outputs": [],
   "source": [
    "#junção dos dados balanceados\n",
    "dados_final = pd.concat([X, y], axis=1)"
   ]
  },
  {
   "cell_type": "code",
   "execution_count": 18,
   "metadata": {
    "colab": {
     "base_uri": "https://localhost:8080/",
     "height": 0
    },
    "executionInfo": {
     "elapsed": 10,
     "status": "ok",
     "timestamp": 1652934139284,
     "user": {
      "displayName": "Ana Clara Mioto",
      "userId": "02280775085590012326"
     },
     "user_tz": 180
    },
    "id": "GQj3bEEOZ42e",
    "outputId": "a0caee8f-cfa7-4c10-9260-a3e3dcd92857"
   },
   "outputs": [
    {
     "data": {
      "text/html": [
       "<div>\n",
       "<style scoped>\n",
       "    .dataframe tbody tr th:only-of-type {\n",
       "        vertical-align: middle;\n",
       "    }\n",
       "\n",
       "    .dataframe tbody tr th {\n",
       "        vertical-align: top;\n",
       "    }\n",
       "\n",
       "    .dataframe thead th {\n",
       "        text-align: right;\n",
       "    }\n",
       "</style>\n",
       "<table border=\"1\" class=\"dataframe\">\n",
       "  <thead>\n",
       "    <tr style=\"text-align: right;\">\n",
       "      <th></th>\n",
       "      <th>Conjuge</th>\n",
       "      <th>Dependentes</th>\n",
       "      <th>TelefoneFixo</th>\n",
       "      <th>PagamentoOnline</th>\n",
       "      <th>Maior65Anos</th>\n",
       "      <th>MesesDeContrato</th>\n",
       "      <th>ContaMensal</th>\n",
       "      <th>VariasLinhasTelefonicas_Nao</th>\n",
       "      <th>VariasLinhasTelefonicas_SemServicoTelefonico</th>\n",
       "      <th>VariasLinhasTelefonicas_Sim</th>\n",
       "      <th>ServicoDeInternet_DSL</th>\n",
       "      <th>ServicoDeInternet_FibraOptica</th>\n",
       "      <th>ServicoDeInternet_Nao</th>\n",
       "      <th>SegurancaOnline_Nao</th>\n",
       "      <th>SegurancaOnline_SemServicoDeInternet</th>\n",
       "      <th>SegurancaOnline_Sim</th>\n",
       "      <th>BackupOnline_Nao</th>\n",
       "      <th>BackupOnline_SemServicoDeInternet</th>\n",
       "      <th>BackupOnline_Sim</th>\n",
       "      <th>SeguroNoDispositivo_Nao</th>\n",
       "      <th>SeguroNoDispositivo_SemServicoDeInternet</th>\n",
       "      <th>SeguroNoDispositivo_Sim</th>\n",
       "      <th>SuporteTecnico_Nao</th>\n",
       "      <th>SuporteTecnico_SemServicoDeInternet</th>\n",
       "      <th>SuporteTecnico_Sim</th>\n",
       "      <th>TVaCabo_Nao</th>\n",
       "      <th>TVaCabo_SemServicoDeInternet</th>\n",
       "      <th>TVaCabo_Sim</th>\n",
       "      <th>StreamingDeFilmes_Nao</th>\n",
       "      <th>StreamingDeFilmes_SemServicoDeInternet</th>\n",
       "      <th>StreamingDeFilmes_Sim</th>\n",
       "      <th>TipoDeContrato_DoisAnos</th>\n",
       "      <th>TipoDeContrato_Mensalmente</th>\n",
       "      <th>TipoDeContrato_UmAno</th>\n",
       "      <th>FormaDePagamento_CartaoDeCredito</th>\n",
       "      <th>FormaDePagamento_ChequeDigital</th>\n",
       "      <th>FormaDePagamento_ChequePapel</th>\n",
       "      <th>FormaDePagamento_DebitoEmConta</th>\n",
       "      <th>Churn</th>\n",
       "    </tr>\n",
       "  </thead>\n",
       "  <tbody>\n",
       "    <tr>\n",
       "      <th>0</th>\n",
       "      <td>1</td>\n",
       "      <td>0</td>\n",
       "      <td>0</td>\n",
       "      <td>1</td>\n",
       "      <td>0</td>\n",
       "      <td>1</td>\n",
       "      <td>29.85</td>\n",
       "      <td>0</td>\n",
       "      <td>1</td>\n",
       "      <td>0</td>\n",
       "      <td>1</td>\n",
       "      <td>0</td>\n",
       "      <td>0</td>\n",
       "      <td>1</td>\n",
       "      <td>0</td>\n",
       "      <td>0</td>\n",
       "      <td>0</td>\n",
       "      <td>0</td>\n",
       "      <td>1</td>\n",
       "      <td>1</td>\n",
       "      <td>0</td>\n",
       "      <td>0</td>\n",
       "      <td>1</td>\n",
       "      <td>0</td>\n",
       "      <td>0</td>\n",
       "      <td>1</td>\n",
       "      <td>0</td>\n",
       "      <td>0</td>\n",
       "      <td>1</td>\n",
       "      <td>0</td>\n",
       "      <td>0</td>\n",
       "      <td>0</td>\n",
       "      <td>1</td>\n",
       "      <td>0</td>\n",
       "      <td>0</td>\n",
       "      <td>1</td>\n",
       "      <td>0</td>\n",
       "      <td>0</td>\n",
       "      <td>0</td>\n",
       "    </tr>\n",
       "    <tr>\n",
       "      <th>1</th>\n",
       "      <td>0</td>\n",
       "      <td>0</td>\n",
       "      <td>1</td>\n",
       "      <td>0</td>\n",
       "      <td>0</td>\n",
       "      <td>34</td>\n",
       "      <td>56.95</td>\n",
       "      <td>1</td>\n",
       "      <td>0</td>\n",
       "      <td>0</td>\n",
       "      <td>1</td>\n",
       "      <td>0</td>\n",
       "      <td>0</td>\n",
       "      <td>0</td>\n",
       "      <td>0</td>\n",
       "      <td>1</td>\n",
       "      <td>1</td>\n",
       "      <td>0</td>\n",
       "      <td>0</td>\n",
       "      <td>0</td>\n",
       "      <td>0</td>\n",
       "      <td>1</td>\n",
       "      <td>1</td>\n",
       "      <td>0</td>\n",
       "      <td>0</td>\n",
       "      <td>1</td>\n",
       "      <td>0</td>\n",
       "      <td>0</td>\n",
       "      <td>1</td>\n",
       "      <td>0</td>\n",
       "      <td>0</td>\n",
       "      <td>0</td>\n",
       "      <td>0</td>\n",
       "      <td>1</td>\n",
       "      <td>0</td>\n",
       "      <td>0</td>\n",
       "      <td>1</td>\n",
       "      <td>0</td>\n",
       "      <td>0</td>\n",
       "    </tr>\n",
       "  </tbody>\n",
       "</table>\n",
       "</div>"
      ],
      "text/plain": [
       "   Conjuge  Dependentes  TelefoneFixo  PagamentoOnline  Maior65Anos  \\\n",
       "0        1            0             0                1            0   \n",
       "1        0            0             1                0            0   \n",
       "\n",
       "   MesesDeContrato  ContaMensal  VariasLinhasTelefonicas_Nao  \\\n",
       "0                1        29.85                            0   \n",
       "1               34        56.95                            1   \n",
       "\n",
       "   VariasLinhasTelefonicas_SemServicoTelefonico  VariasLinhasTelefonicas_Sim  \\\n",
       "0                                             1                            0   \n",
       "1                                             0                            0   \n",
       "\n",
       "   ServicoDeInternet_DSL  ServicoDeInternet_FibraOptica  \\\n",
       "0                      1                              0   \n",
       "1                      1                              0   \n",
       "\n",
       "   ServicoDeInternet_Nao  SegurancaOnline_Nao  \\\n",
       "0                      0                    1   \n",
       "1                      0                    0   \n",
       "\n",
       "   SegurancaOnline_SemServicoDeInternet  SegurancaOnline_Sim  \\\n",
       "0                                     0                    0   \n",
       "1                                     0                    1   \n",
       "\n",
       "   BackupOnline_Nao  BackupOnline_SemServicoDeInternet  BackupOnline_Sim  \\\n",
       "0                 0                                  0                 1   \n",
       "1                 1                                  0                 0   \n",
       "\n",
       "   SeguroNoDispositivo_Nao  SeguroNoDispositivo_SemServicoDeInternet  \\\n",
       "0                        1                                         0   \n",
       "1                        0                                         0   \n",
       "\n",
       "   SeguroNoDispositivo_Sim  SuporteTecnico_Nao  \\\n",
       "0                        0                   1   \n",
       "1                        1                   1   \n",
       "\n",
       "   SuporteTecnico_SemServicoDeInternet  SuporteTecnico_Sim  TVaCabo_Nao  \\\n",
       "0                                    0                   0            1   \n",
       "1                                    0                   0            1   \n",
       "\n",
       "   TVaCabo_SemServicoDeInternet  TVaCabo_Sim  StreamingDeFilmes_Nao  \\\n",
       "0                             0            0                      1   \n",
       "1                             0            0                      1   \n",
       "\n",
       "   StreamingDeFilmes_SemServicoDeInternet  StreamingDeFilmes_Sim  \\\n",
       "0                                       0                      0   \n",
       "1                                       0                      0   \n",
       "\n",
       "   TipoDeContrato_DoisAnos  TipoDeContrato_Mensalmente  TipoDeContrato_UmAno  \\\n",
       "0                        0                           1                     0   \n",
       "1                        0                           0                     1   \n",
       "\n",
       "   FormaDePagamento_CartaoDeCredito  FormaDePagamento_ChequeDigital  \\\n",
       "0                                 0                               1   \n",
       "1                                 0                               0   \n",
       "\n",
       "   FormaDePagamento_ChequePapel  FormaDePagamento_DebitoEmConta  Churn  \n",
       "0                             0                               0      0  \n",
       "1                             1                               0      0  "
      ]
     },
     "execution_count": 18,
     "metadata": {},
     "output_type": "execute_result"
    }
   ],
   "source": [
    "#verificação 1 - junção dos dados\n",
    "dados_final.head(2)"
   ]
  },
  {
   "cell_type": "code",
   "execution_count": 19,
   "metadata": {
    "colab": {
     "base_uri": "https://localhost:8080/",
     "height": 0
    },
    "executionInfo": {
     "elapsed": 453,
     "status": "ok",
     "timestamp": 1652934139732,
     "user": {
      "displayName": "Ana Clara Mioto",
      "userId": "02280775085590012326"
     },
     "user_tz": 180
    },
    "id": "jSzaHOlyZ7r-",
    "outputId": "ab7037ba-022f-4091-a9b2-cafbec5ea7e7"
   },
   "outputs": [
    {
     "data": {
      "image/png": "[encoded data removed]",
      "text/plain": [
       "<Figure size 432x288 with 1 Axes>"
      ]
     },
     "metadata": {
      "needs_background": "light"
     },
     "output_type": "display_data"
    }
   ],
   "source": [
    "#verificação 2 - balanceamento\n",
    "ax = sns.countplot(x='Churn', data=dados_final)"
   ]
  },
  {
   "cell_type": "code",
   "execution_count": 20,
   "metadata": {
    "colab": {
     "base_uri": "https://localhost:8080/"
    },
    "executionInfo": {
     "elapsed": 15,
     "status": "ok",
     "timestamp": 1652934139732,
     "user": {
      "displayName": "Ana Clara Mioto",
      "userId": "02280775085590012326"
     },
     "user_tz": 180
    },
    "id": "Zx0HYHd3RGl7",
    "outputId": "a89570d4-2f64-477b-d3ec-01cd5e1eefb8"
   },
   "outputs": [
    {
     "data": {
      "text/plain": [
       "0    5174\n",
       "1    5174\n",
       "Name: Churn, dtype: int64"
      ]
     },
     "execution_count": 20,
     "metadata": {},
     "output_type": "execute_result"
    }
   ],
   "source": [
    "dados_final.Churn.value_counts()"
   ]
  },
  {
   "cell_type": "markdown",
   "metadata": {
    "id": "_d4jEXubcPuO"
   },
   "source": [
    "# Aula 2 - Método baseado na proximidade"
   ]
  },
  {
   "cell_type": "markdown",
   "metadata": {
    "id": "PVGb9U19cW4V"
   },
   "source": [
    "## 2.1 - Modelo K-nearest neighbors (KNN)\n",
    "\n",
    "(Slides)"
   ]
  },
  {
   "cell_type": "markdown",
   "metadata": {
    "id": "MvIfmyE2ckVV"
   },
   "source": [
    "## 2.2 - KNN por trás dos panos"
   ]
  },
  {
   "cell_type": "code",
   "execution_count": 21,
   "metadata": {
    "colab": {
     "base_uri": "https://localhost:8080/"
    },
    "executionInfo": {
     "elapsed": 13,
     "status": "ok",
     "timestamp": 1652934139732,
     "user": {
      "displayName": "Ana Clara Mioto",
      "userId": "02280775085590012326"
     },
     "user_tz": 180
    },
    "id": "blRWRPdXcWJ1",
    "outputId": "882ea1f1-3a9a-4980-9f7d-32d41c637704"
   },
   "outputs": [
    {
     "data": {
      "text/plain": [
       "[[0,\n",
       "  0,\n",
       "  1,\n",
       "  1,\n",
       "  0,\n",
       "  0,\n",
       "  39.9,\n",
       "  1,\n",
       "  0,\n",
       "  0,\n",
       "  0,\n",
       "  1,\n",
       "  0,\n",
       "  1,\n",
       "  0,\n",
       "  0,\n",
       "  0,\n",
       "  0,\n",
       "  1,\n",
       "  1,\n",
       "  1,\n",
       "  0,\n",
       "  0,\n",
       "  1,\n",
       "  0,\n",
       "  1,\n",
       "  0,\n",
       "  0,\n",
       "  0,\n",
       "  0,\n",
       "  1,\n",
       "  0,\n",
       "  0,\n",
       "  1,\n",
       "  0,\n",
       "  0,\n",
       "  0,\n",
       "  1]]"
      ]
     },
     "execution_count": 21,
     "metadata": {},
     "output_type": "execute_result"
    }
   ],
   "source": [
    "Xmaria"
   ]
  },
  {
   "cell_type": "code",
   "execution_count": 22,
   "metadata": {
    "executionInfo": {
     "elapsed": 14,
     "status": "ok",
     "timestamp": 1652934139733,
     "user": {
      "displayName": "Ana Clara Mioto",
      "userId": "02280775085590012326"
     },
     "user_tz": 180
    },
    "id": "tdwhZOphjbIg"
   },
   "outputs": [],
   "source": [
    "#ymaria = ?"
   ]
  },
  {
   "cell_type": "code",
   "execution_count": 23,
   "metadata": {
    "executionInfo": {
     "elapsed": 13,
     "status": "ok",
     "timestamp": 1652934139733,
     "user": {
      "displayName": "Ana Clara Mioto",
      "userId": "02280775085590012326"
     },
     "user_tz": 180
    },
    "id": "h0re3ABxjlLW"
   },
   "outputs": [],
   "source": [
    "#Divisão em inputs e outputs\n",
    "X = dados_final.drop('Churn', axis = 1)\n",
    "y = dados_final['Churn']"
   ]
  },
  {
   "cell_type": "code",
   "execution_count": 24,
   "metadata": {
    "executionInfo": {
     "elapsed": 13,
     "status": "ok",
     "timestamp": 1652934139733,
     "user": {
      "displayName": "Ana Clara Mioto",
      "userId": "02280775085590012326"
     },
     "user_tz": 180
    },
    "id": "cw_-29nlkLMV"
   },
   "outputs": [],
   "source": [
    "#biblioteca para padronizar os dados\n",
    "from sklearn.preprocessing import StandardScaler"
   ]
  },
  {
   "cell_type": "code",
   "execution_count": 25,
   "metadata": {
    "colab": {
     "base_uri": "https://localhost:8080/"
    },
    "executionInfo": {
     "elapsed": 14,
     "status": "ok",
     "timestamp": 1652934139734,
     "user": {
      "displayName": "Ana Clara Mioto",
      "userId": "02280775085590012326"
     },
     "user_tz": 180
    },
    "id": "zGYhtla_kgpd",
    "outputId": "9ce482bf-b92d-44f5-d7c6-bed901c3aca4"
   },
   "outputs": [
    {
     "data": {
      "text/plain": [
       "array([[ 1.26542767, -0.52756038, -3.06083934, ...,  1.30292044,\n",
       "        -0.47943196, -0.43617215],\n",
       "       [-0.79024667, -0.52756038,  0.32670777, ..., -0.76750657,\n",
       "         2.08580171, -0.43617215],\n",
       "       [-0.79024667, -0.52756038,  0.32670777, ..., -0.76750657,\n",
       "         2.08580171, -0.43617215],\n",
       "       ...,\n",
       "       [-0.79024667, -0.52756038,  0.32670777, ...,  1.30292044,\n",
       "        -0.47943196, -0.43617215],\n",
       "       [-0.79024667, -0.52756038,  0.32670777, ..., -0.76750657,\n",
       "        -0.47943196, -0.43617215],\n",
       "       [-0.79024667, -0.52756038,  0.32670777, ..., -0.76750657,\n",
       "        -0.47943196, -0.43617215]])"
      ]
     },
     "execution_count": 25,
     "metadata": {},
     "output_type": "execute_result"
    }
   ],
   "source": [
    "norm = StandardScaler()\n",
    "\n",
    "X_normalizado = norm.fit_transform(X)\n",
    "X_normalizado"
   ]
  },
  {
   "cell_type": "code",
   "execution_count": 26,
   "metadata": {
    "colab": {
     "base_uri": "https://localhost:8080/"
    },
    "executionInfo": {
     "elapsed": 12,
     "status": "ok",
     "timestamp": 1652934139734,
     "user": {
      "displayName": "Ana Clara Mioto",
      "userId": "02280775085590012326"
     },
     "user_tz": 180
    },
    "id": "Cs-ivgv7qsKL",
    "outputId": "100c3de8-33c7-45d2-a671-33f4b72a4695"
   },
   "outputs": [
    {
     "data": {
      "text/plain": [
       "array([ 1.26542767, -0.52756038, -3.06083934,  0.8149851 , -0.41334384,\n",
       "       -1.10768354, -1.32176205, -0.88482108,  3.18604176, -0.83366906,\n",
       "        1.51268338, -1.04386816, -0.44617598,  0.868102  , -0.44617598,\n",
       "       -0.5173695 , -0.95871762, -0.44617598,  1.57389661,  1.04326198,\n",
       "       -0.44617598, -0.64211419,  0.87997069, -0.44617598, -0.52426638,\n",
       "        1.18643645, -0.44617598, -0.77707385,  1.2033586 , -0.44617598,\n",
       "       -0.78992399, -0.44648735,  0.73773107, -0.41989297, -0.42576817,\n",
       "        1.30292044, -0.47943196, -0.43617215])"
      ]
     },
     "execution_count": 26,
     "metadata": {},
     "output_type": "execute_result"
    }
   ],
   "source": [
    "X_normalizado[0]"
   ]
  },
  {
   "cell_type": "code",
   "execution_count": 27,
   "metadata": {
    "colab": {
     "base_uri": "https://localhost:8080/"
    },
    "executionInfo": {
     "elapsed": 11,
     "status": "ok",
     "timestamp": 1652934139734,
     "user": {
      "displayName": "Ana Clara Mioto",
      "userId": "02280775085590012326"
     },
     "user_tz": 180
    },
    "id": "Ll6FnFO-kosd",
    "outputId": "1ef0ba4e-e962-45fa-fae8-746a20d7c157"
   },
   "outputs": [
    {
     "data": {
      "text/plain": [
       "array([[-0.79024667, -0.52756038,  0.32670777,  0.8149851 , -0.41334384,\n",
       "        -1.14934709, -0.97235471,  1.13017199, -0.31386908, -0.83366906,\n",
       "        -0.66107688,  0.95797538, -0.44617598,  0.868102  , -0.44617598,\n",
       "        -0.5173695 , -0.95871762, -0.44617598,  1.57389661,  1.04326198,\n",
       "         2.24126814, -0.64211419, -1.13640148,  2.24126814, -0.52426638,\n",
       "         1.18643645, -0.44617598, -0.77707385, -0.83100748, -0.44617598,\n",
       "         1.26594459, -0.44648735, -1.35550751,  2.38155929, -0.42576817,\n",
       "        -0.76750657, -0.47943196,  2.29267273]])"
      ]
     },
     "execution_count": 27,
     "metadata": {},
     "output_type": "execute_result"
    }
   ],
   "source": [
    "Xmaria_normalizado = norm.transform(pd.DataFrame(Xmaria, columns = X.columns))\n",
    "Xmaria_normalizado"
   ]
  },
  {
   "cell_type": "markdown",
   "metadata": {
    "id": "pgU6OxezlB_F"
   },
   "source": [
    "Distância Euclidiana:\n",
    "\n",
    "$$\\sqrt{\\sum_{i=1}^k(a_{i}-b_{i})^2}$$"
   ]
  },
  {
   "cell_type": "code",
   "execution_count": 28,
   "metadata": {
    "executionInfo": {
     "elapsed": 10,
     "status": "ok",
     "timestamp": 1652934139734,
     "user": {
      "displayName": "Ana Clara Mioto",
      "userId": "02280775085590012326"
     },
     "user_tz": 180
    },
    "id": "SbxwDdiIk36F"
   },
   "outputs": [],
   "source": [
    "import numpy as np"
   ]
  },
  {
   "cell_type": "code",
   "execution_count": 29,
   "metadata": {
    "executionInfo": {
     "elapsed": 10,
     "status": "ok",
     "timestamp": 1652934139735,
     "user": {
      "displayName": "Ana Clara Mioto",
      "userId": "02280775085590012326"
     },
     "user_tz": 180
    },
    "id": "9oywjidemxXl"
   },
   "outputs": [],
   "source": [
    "a = Xmaria_normalizado"
   ]
  },
  {
   "cell_type": "code",
   "execution_count": 30,
   "metadata": {
    "executionInfo": {
     "elapsed": 10,
     "status": "ok",
     "timestamp": 1652934139735,
     "user": {
      "displayName": "Ana Clara Mioto",
      "userId": "02280775085590012326"
     },
     "user_tz": 180
    },
    "id": "JL85j369li4d"
   },
   "outputs": [],
   "source": [
    "b = X_normalizado[0]"
   ]
  },
  {
   "cell_type": "code",
   "execution_count": 31,
   "metadata": {
    "colab": {
     "base_uri": "https://localhost:8080/"
    },
    "executionInfo": {
     "elapsed": 10,
     "status": "ok",
     "timestamp": 1652934139735,
     "user": {
      "displayName": "Ana Clara Mioto",
      "userId": "02280775085590012326"
     },
     "user_tz": 180
    },
    "id": "mmhEqixanDgF",
    "outputId": "7efb3053-ca9e-4e32-9701-c0290843dfa1"
   },
   "outputs": [
    {
     "data": {
      "text/plain": [
       "array([[-2.05567434,  0.        ,  3.38754711,  0.        ,  0.        ,\n",
       "        -0.04166355,  0.34940734,  2.01499307, -3.49991084,  0.        ,\n",
       "        -2.17376025,  2.00184354,  0.        ,  0.        ,  0.        ,\n",
       "         0.        ,  0.        ,  0.        ,  0.        ,  0.        ,\n",
       "         2.68744412,  0.        , -2.01637218,  2.68744412,  0.        ,\n",
       "         0.        ,  0.        ,  0.        , -2.03436608,  0.        ,\n",
       "         2.05586858,  0.        , -2.09323857,  2.80145225,  0.        ,\n",
       "        -2.07042701,  0.        ,  2.72884488]])"
      ]
     },
     "execution_count": 31,
     "metadata": {},
     "output_type": "execute_result"
    }
   ],
   "source": [
    "#1 - começamos subtraindo \n",
    "a - b"
   ]
  },
  {
   "cell_type": "code",
   "execution_count": 32,
   "metadata": {
    "colab": {
     "base_uri": "https://localhost:8080/"
    },
    "executionInfo": {
     "elapsed": 9,
     "status": "ok",
     "timestamp": 1652934139735,
     "user": {
      "displayName": "Ana Clara Mioto",
      "userId": "02280775085590012326"
     },
     "user_tz": 180
    },
    "id": "_aBlq3wPnF49",
    "outputId": "535f2626-6f3c-47c0-a939-298aa6498ebd"
   },
   "outputs": [
    {
     "data": {
      "text/plain": [
       "array([[4.22579699e+00, 0.00000000e+00, 1.14754754e+01, 0.00000000e+00,\n",
       "        0.00000000e+00, 1.73585140e-03, 1.22085486e-01, 4.06019707e+00,\n",
       "        1.22493759e+01, 0.00000000e+00, 4.72523363e+00, 4.00737757e+00,\n",
       "        0.00000000e+00, 0.00000000e+00, 0.00000000e+00, 0.00000000e+00,\n",
       "        0.00000000e+00, 0.00000000e+00, 0.00000000e+00, 0.00000000e+00,\n",
       "        7.22235589e+00, 0.00000000e+00, 4.06575675e+00, 7.22235589e+00,\n",
       "        0.00000000e+00, 0.00000000e+00, 0.00000000e+00, 0.00000000e+00,\n",
       "        4.13864535e+00, 0.00000000e+00, 4.22659561e+00, 0.00000000e+00,\n",
       "        4.38164773e+00, 7.84813473e+00, 0.00000000e+00, 4.28666801e+00,\n",
       "        0.00000000e+00, 7.44659439e+00]])"
      ]
     },
     "execution_count": 32,
     "metadata": {},
     "output_type": "execute_result"
    }
   ],
   "source": [
    "#2 - depois realizamos a exponenciação\n",
    "np.square(a-b)"
   ]
  },
  {
   "cell_type": "code",
   "execution_count": 33,
   "metadata": {
    "colab": {
     "base_uri": "https://localhost:8080/"
    },
    "executionInfo": {
     "elapsed": 289,
     "status": "ok",
     "timestamp": 1652934140016,
     "user": {
      "displayName": "Ana Clara Mioto",
      "userId": "02280775085590012326"
     },
     "user_tz": 180
    },
    "id": "_bDEeU_znIxH",
    "outputId": "4a4f82a2-b628-42a5-9b1e-661d36c11922"
   },
   "outputs": [
    {
     "data": {
      "text/plain": [
       "91.70603225977928"
      ]
     },
     "execution_count": 33,
     "metadata": {},
     "output_type": "execute_result"
    }
   ],
   "source": [
    "#3 - a soma \n",
    "np.sum(np.square(a-b))"
   ]
  },
  {
   "cell_type": "code",
   "execution_count": 34,
   "metadata": {
    "colab": {
     "base_uri": "https://localhost:8080/"
    },
    "executionInfo": {
     "elapsed": 15,
     "status": "ok",
     "timestamp": 1652934140016,
     "user": {
      "displayName": "Ana Clara Mioto",
      "userId": "02280775085590012326"
     },
     "user_tz": 180
    },
    "id": "o9NJQSP-nMUm",
    "outputId": "cbb125fe-b758-45b2-a6c5-50ad4c14c37f"
   },
   "outputs": [
    {
     "data": {
      "text/plain": [
       "9.576326657950807"
      ]
     },
     "execution_count": 34,
     "metadata": {},
     "output_type": "execute_result"
    }
   ],
   "source": [
    "#4 - então tiramos a raiz e temos nossa distância\n",
    "np.sqrt(91.70603225977928)"
   ]
  },
  {
   "cell_type": "markdown",
   "metadata": {
    "id": "_h0pFQfxwYW-"
   },
   "source": [
    "## 2.3 - Implementando o modelo"
   ]
  },
  {
   "cell_type": "code",
   "execution_count": 35,
   "metadata": {
    "executionInfo": {
     "elapsed": 12,
     "status": "ok",
     "timestamp": 1652934140017,
     "user": {
      "displayName": "Ana Clara Mioto",
      "userId": "02280775085590012326"
     },
     "user_tz": 180
    },
    "id": "XtvZ-tMiwjN2"
   },
   "outputs": [],
   "source": [
    "#biblioteca para divisão dos dados\n",
    "from sklearn.model_selection import train_test_split"
   ]
  },
  {
   "cell_type": "code",
   "execution_count": 36,
   "metadata": {
    "executionInfo": {
     "elapsed": 11,
     "status": "ok",
     "timestamp": 1652934140017,
     "user": {
      "displayName": "Ana Clara Mioto",
      "userId": "02280775085590012326"
     },
     "user_tz": 180
    },
    "id": "lWaKqJrTwxE-"
   },
   "outputs": [],
   "source": [
    "X_treino, X_teste, y_treino, y_teste = train_test_split(X_normalizado, y, test_size=0.3, random_state=123)"
   ]
  },
  {
   "cell_type": "markdown",
   "metadata": {
    "id": "LOKzwv4Uw0u7"
   },
   "source": [
    "### Treino e teste "
   ]
  },
  {
   "cell_type": "code",
   "execution_count": 37,
   "metadata": {
    "executionInfo": {
     "elapsed": 12,
     "status": "ok",
     "timestamp": 1652934140018,
     "user": {
      "displayName": "Ana Clara Mioto",
      "userId": "02280775085590012326"
     },
     "user_tz": 180
    },
    "id": "g6-t-BpEwy3G"
   },
   "outputs": [],
   "source": [
    "#biblioteca para criarmos o modelo de machine learning\n",
    "from sklearn.neighbors import KNeighborsClassifier"
   ]
  },
  {
   "cell_type": "code",
   "execution_count": 38,
   "metadata": {
    "executionInfo": {
     "elapsed": 11,
     "status": "ok",
     "timestamp": 1652934140018,
     "user": {
      "displayName": "Ana Clara Mioto",
      "userId": "02280775085590012326"
     },
     "user_tz": 180
    },
    "id": "qFs4VHnhw4-O"
   },
   "outputs": [],
   "source": [
    "#instanciar o modelo (criamos o modelo) - por padrão são 5 vizinhos  \n",
    "knn = KNeighborsClassifier(metric='euclidean')"
   ]
  },
  {
   "cell_type": "code",
   "execution_count": 39,
   "metadata": {
    "colab": {
     "base_uri": "https://localhost:8080/"
    },
    "executionInfo": {
     "elapsed": 10,
     "status": "ok",
     "timestamp": 1652934140018,
     "user": {
      "displayName": "Ana Clara Mioto",
      "userId": "02280775085590012326"
     },
     "user_tz": 180
    },
    "id": "H05zbtgIw6gt",
    "outputId": "59679cd7-37cd-4885-cc00-4903d7529bd3"
   },
   "outputs": [
    {
     "data": {
      "text/plain": [
       "KNeighborsClassifier(metric='euclidean')"
      ]
     },
     "execution_count": 39,
     "metadata": {},
     "output_type": "execute_result"
    }
   ],
   "source": [
    "#treinando o modelo com os dados de treino\n",
    "knn.fit(X_treino, y_treino)"
   ]
  },
  {
   "cell_type": "code",
   "execution_count": 40,
   "metadata": {
    "executionInfo": {
     "elapsed": 676,
     "status": "ok",
     "timestamp": 1652934140688,
     "user": {
      "displayName": "Ana Clara Mioto",
      "userId": "02280775085590012326"
     },
     "user_tz": 180
    },
    "id": "2LrZiJbvw-Mf"
   },
   "outputs": [],
   "source": [
    "#testando o modelo com os dados de teste\n",
    "predito_knn = knn.predict(X_teste)"
   ]
  },
  {
   "cell_type": "code",
   "execution_count": 41,
   "metadata": {
    "colab": {
     "base_uri": "https://localhost:8080/"
    },
    "executionInfo": {
     "elapsed": 13,
     "status": "ok",
     "timestamp": 1652934140688,
     "user": {
      "displayName": "Ana Clara Mioto",
      "userId": "02280775085590012326"
     },
     "user_tz": 180
    },
    "id": "dirCpdIO1MZ9",
    "outputId": "3acd541b-075c-4c77-e2f8-526ee4c96a53"
   },
   "outputs": [
    {
     "data": {
      "text/plain": [
       "array([1, 0, 0, ..., 0, 1, 1], dtype=int64)"
      ]
     },
     "execution_count": 41,
     "metadata": {},
     "output_type": "execute_result"
    }
   ],
   "source": [
    "predito_knn"
   ]
  },
  {
   "cell_type": "markdown",
   "metadata": {
    "id": "EKHFh1Pr7G40"
   },
   "source": [
    "# Aula 3 - Método probabilístico"
   ]
  },
  {
   "cell_type": "markdown",
   "metadata": {
    "id": "b_EAQ1nf7VUu"
   },
   "source": [
    "## 3.1 - Teorema de Naive Bayes \n",
    "\n",
    "(slides)"
   ]
  },
  {
   "cell_type": "markdown",
   "metadata": {
    "id": "02cUbMWf7dEN"
   },
   "source": [
    "## 3.2 - Modelo Bernoulli Naive Bayes\n",
    "\n",
    "(slides)"
   ]
  },
  {
   "cell_type": "markdown",
   "metadata": {
    "id": "zIhV625O7lf9"
   },
   "source": [
    "## 3.3 - Treinamento e teste"
   ]
  },
  {
   "cell_type": "code",
   "execution_count": 42,
   "metadata": {
    "executionInfo": {
     "elapsed": 9,
     "status": "ok",
     "timestamp": 1652934140689,
     "user": {
      "displayName": "Ana Clara Mioto",
      "userId": "02280775085590012326"
     },
     "user_tz": 180
    },
    "id": "vV4i1JC37xJN"
   },
   "outputs": [],
   "source": [
    "#biblioteca para criarmos o modelo de machine learning\n",
    "from sklearn.naive_bayes import BernoulliNB"
   ]
  },
  {
   "cell_type": "code",
   "execution_count": 43,
   "metadata": {
    "executionInfo": {
     "elapsed": 9,
     "status": "ok",
     "timestamp": 1652934140689,
     "user": {
      "displayName": "Ana Clara Mioto",
      "userId": "02280775085590012326"
     },
     "user_tz": 180
    },
    "id": "KnTnDve07ylb"
   },
   "outputs": [],
   "source": [
    "#criamos o modelo\n",
    "bnb = BernoulliNB(binarize=-0.44)"
   ]
  },
  {
   "cell_type": "code",
   "execution_count": 44,
   "metadata": {
    "colab": {
     "base_uri": "https://localhost:8080/"
    },
    "executionInfo": {
     "elapsed": 9,
     "status": "ok",
     "timestamp": 1652934140689,
     "user": {
      "displayName": "Ana Clara Mioto",
      "userId": "02280775085590012326"
     },
     "user_tz": 180
    },
    "id": "AEzm1GSZ7tZZ",
    "outputId": "32de87f1-a895-431d-f6a8-600109a78ec5"
   },
   "outputs": [
    {
     "data": {
      "text/plain": [
       "-0.4461759755508453"
      ]
     },
     "execution_count": 44,
     "metadata": {},
     "output_type": "execute_result"
    }
   ],
   "source": [
    "#escolho utilizar mediana, porque é o valor central dos nossos dados ordenados\n",
    "np.median(X_treino)"
   ]
  },
  {
   "cell_type": "code",
   "execution_count": 45,
   "metadata": {
    "colab": {
     "base_uri": "https://localhost:8080/"
    },
    "executionInfo": {
     "elapsed": 7,
     "status": "ok",
     "timestamp": 1652934140689,
     "user": {
      "displayName": "Ana Clara Mioto",
      "userId": "02280775085590012326"
     },
     "user_tz": 180
    },
    "id": "e5HdbyA27cUJ",
    "outputId": "41ca216f-2b25-43f9-e507-a8dd8d3f4571"
   },
   "outputs": [
    {
     "data": {
      "text/plain": [
       "array([[-0.79024667, -0.52756038, -3.06083934, ..., -0.76750657,\n",
       "         2.08580171, -0.43617215],\n",
       "       [ 1.26542767,  1.89551764,  0.32670777, ..., -0.76750657,\n",
       "         2.08580171, -0.43617215],\n",
       "       [-0.79024667, -0.52756038,  0.32670777, ...,  1.30292044,\n",
       "        -0.47943196, -0.43617215],\n",
       "       ...,\n",
       "       [ 1.26542767,  1.89551764,  0.32670777, ..., -0.76750657,\n",
       "         2.08580171, -0.43617215],\n",
       "       [ 1.26542767,  1.89551764,  0.32670777, ...,  1.30292044,\n",
       "        -0.47943196, -0.43617215],\n",
       "       [-0.79024667, -0.52756038,  0.32670777, ...,  1.30292044,\n",
       "        -0.47943196, -0.43617215]])"
      ]
     },
     "execution_count": 45,
     "metadata": {},
     "output_type": "execute_result"
    }
   ],
   "source": [
    "X_treino"
   ]
  },
  {
   "cell_type": "code",
   "execution_count": 46,
   "metadata": {
    "colab": {
     "base_uri": "https://localhost:8080/"
    },
    "executionInfo": {
     "elapsed": 6,
     "status": "ok",
     "timestamp": 1652934140689,
     "user": {
      "displayName": "Ana Clara Mioto",
      "userId": "02280775085590012326"
     },
     "user_tz": 180
    },
    "id": "HevdnXNV7rPg",
    "outputId": "acaeb6b2-b82b-4340-c917-db9059a9f906"
   },
   "outputs": [
    {
     "data": {
      "text/plain": [
       "4831    0\n",
       "5077    0\n",
       "9023    1\n",
       "4424    1\n",
       "5236    0\n",
       "       ..\n",
       "9785    1\n",
       "7763    1\n",
       "5218    0\n",
       "1346    1\n",
       "3582    0\n",
       "Name: Churn, Length: 7243, dtype: int64"
      ]
     },
     "execution_count": 46,
     "metadata": {},
     "output_type": "execute_result"
    }
   ],
   "source": [
    "y_treino"
   ]
  },
  {
   "cell_type": "code",
   "execution_count": 47,
   "metadata": {
    "colab": {
     "base_uri": "https://localhost:8080/"
    },
    "executionInfo": {
     "elapsed": 5,
     "status": "ok",
     "timestamp": 1652934140689,
     "user": {
      "displayName": "Ana Clara Mioto",
      "userId": "02280775085590012326"
     },
     "user_tz": 180
    },
    "id": "qIIT0uX273SN",
    "outputId": "690b80ba-8543-4b97-cad4-82c7e6ee156f"
   },
   "outputs": [
    {
     "data": {
      "text/plain": [
       "BernoulliNB(binarize=-0.44)"
      ]
     },
     "execution_count": 47,
     "metadata": {},
     "output_type": "execute_result"
    }
   ],
   "source": [
    "#treinar o modelo\n",
    "bnb.fit(X_treino, y_treino)"
   ]
  },
  {
   "cell_type": "code",
   "execution_count": 48,
   "metadata": {
    "executionInfo": {
     "elapsed": 5,
     "status": "ok",
     "timestamp": 1652934140690,
     "user": {
      "displayName": "Ana Clara Mioto",
      "userId": "02280775085590012326"
     },
     "user_tz": 180
    },
    "id": "BpCOWhx674G6"
   },
   "outputs": [],
   "source": [
    "#testar o modelo\n",
    "predito_BNb = bnb.predict(X_teste)"
   ]
  },
  {
   "cell_type": "code",
   "execution_count": 49,
   "metadata": {
    "colab": {
     "base_uri": "https://localhost:8080/"
    },
    "executionInfo": {
     "elapsed": 5,
     "status": "ok",
     "timestamp": 1652934140690,
     "user": {
      "displayName": "Ana Clara Mioto",
      "userId": "02280775085590012326"
     },
     "user_tz": 180
    },
    "id": "KIS6Syvf79ou",
    "outputId": "637d4e84-0735-45d9-ba4d-0e1c48212838"
   },
   "outputs": [
    {
     "data": {
      "text/plain": [
       "array([1, 0, 0, ..., 1, 1, 1], dtype=int64)"
      ]
     },
     "execution_count": 49,
     "metadata": {},
     "output_type": "execute_result"
    }
   ],
   "source": [
    "predito_BNb"
   ]
  },
  {
   "cell_type": "markdown",
   "metadata": {
    "id": "I0QZ6_rY00NG"
   },
   "source": [
    "# Aula 4 - Método Simbólico"
   ]
  },
  {
   "cell_type": "markdown",
   "metadata": {
    "id": "VglEIUuC2jkO"
   },
   "source": [
    "## 4.1 - O que é árvore de decisão?\n",
    "\n",
    "(slides)"
   ]
  },
  {
   "cell_type": "markdown",
   "metadata": {
    "id": "jdtLgDk3sAQZ"
   },
   "source": [
    "## 4.2 - Por trás da árvore de decisão\n",
    "\n",
    "(slides)"
   ]
  },
  {
   "cell_type": "markdown",
   "metadata": {
    "id": "cYFuWWnTsJLP"
   },
   "source": [
    "## 4.3 - Implementando o modelo"
   ]
  },
  {
   "cell_type": "code",
   "execution_count": 50,
   "metadata": {
    "executionInfo": {
     "elapsed": 243,
     "status": "ok",
     "timestamp": 1652937549606,
     "user": {
      "displayName": "Ana Clara Mioto",
      "userId": "02280775085590012326"
     },
     "user_tz": 180
    },
    "id": "VZBVqKxE2i10"
   },
   "outputs": [],
   "source": [
    "#biblioteca para criarmos o modelo de machine learning\n",
    "from sklearn.tree import DecisionTreeClassifier"
   ]
  },
  {
   "cell_type": "code",
   "execution_count": 51,
   "metadata": {
    "executionInfo": {
     "elapsed": 248,
     "status": "ok",
     "timestamp": 1652937655307,
     "user": {
      "displayName": "Ana Clara Mioto",
      "userId": "02280775085590012326"
     },
     "user_tz": 180
    },
    "id": "AR0fPU6qsPmg"
   },
   "outputs": [],
   "source": [
    "#instanciando o modelo\n",
    "dtc = DecisionTreeClassifier(criterion='entropy', random_state=42)"
   ]
  },
  {
   "cell_type": "code",
   "execution_count": 52,
   "metadata": {
    "colab": {
     "base_uri": "https://localhost:8080/"
    },
    "executionInfo": {
     "elapsed": 258,
     "status": "ok",
     "timestamp": 1652937672155,
     "user": {
      "displayName": "Ana Clara Mioto",
      "userId": "02280775085590012326"
     },
     "user_tz": 180
    },
    "id": "zG5vDatzsV7D",
    "outputId": "227d16bf-7714-449c-f9a8-a8bef13949f7"
   },
   "outputs": [
    {
     "data": {
      "text/plain": [
       "DecisionTreeClassifier(criterion='entropy', random_state=42)"
      ]
     },
     "execution_count": 52,
     "metadata": {},
     "output_type": "execute_result"
    }
   ],
   "source": [
    "#treinar o modelo\n",
    "dtc.fit(X_treino, y_treino)"
   ]
  },
  {
   "cell_type": "code",
   "execution_count": 53,
   "metadata": {
    "colab": {
     "base_uri": "https://localhost:8080/"
    },
    "executionInfo": {
     "elapsed": 244,
     "status": "ok",
     "timestamp": 1652937709430,
     "user": {
      "displayName": "Ana Clara Mioto",
      "userId": "02280775085590012326"
     },
     "user_tz": 180
    },
    "id": "Gx2S564TiNqI",
    "outputId": "48d30261-2882-4724-d186-2612b42df33d"
   },
   "outputs": [
    {
     "data": {
      "text/plain": [
       "array([0.02100894, 0.01395648, 0.0068095 , 0.01987306, 0.01892071,\n",
       "       0.16274644, 0.22207834, 0.00929414, 0.00344576, 0.01033768,\n",
       "       0.0019815 , 0.03131262, 0.00065123, 0.00849934, 0.        ,\n",
       "       0.01698366, 0.00622973, 0.        , 0.00964718, 0.01267467,\n",
       "       0.00027769, 0.00770208, 0.01306512, 0.00368329, 0.02048744,\n",
       "       0.00371587, 0.        , 0.00156955, 0.00671244, 0.0003825 ,\n",
       "       0.01126638, 0.03611651, 0.16384005, 0.07422263, 0.01760111,\n",
       "       0.02127213, 0.02182911, 0.01980513])"
      ]
     },
     "execution_count": 53,
     "metadata": {},
     "output_type": "execute_result"
    }
   ],
   "source": [
    "#verificar a importância de cada atributo\n",
    "dtc.feature_importances_"
   ]
  },
  {
   "cell_type": "code",
   "execution_count": 54,
   "metadata": {
    "executionInfo": {
     "elapsed": 233,
     "status": "ok",
     "timestamp": 1652937775139,
     "user": {
      "displayName": "Ana Clara Mioto",
      "userId": "02280775085590012326"
     },
     "user_tz": 180
    },
    "id": "1N3ogMwXsYLJ"
   },
   "outputs": [],
   "source": [
    "predito_ArvoreDecisao = dtc.predict(X_teste)"
   ]
  },
  {
   "cell_type": "code",
   "execution_count": 55,
   "metadata": {
    "colab": {
     "base_uri": "https://localhost:8080/"
    },
    "executionInfo": {
     "elapsed": 269,
     "status": "ok",
     "timestamp": 1652937784042,
     "user": {
      "displayName": "Ana Clara Mioto",
      "userId": "02280775085590012326"
     },
     "user_tz": 180
    },
    "id": "8yWcv1rCsbIT",
    "outputId": "de8f1e9a-5d7b-4b56-fa9e-27cd131c6f36"
   },
   "outputs": [
    {
     "data": {
      "text/plain": [
       "array([0, 0, 0, ..., 1, 1, 1], dtype=int64)"
      ]
     },
     "execution_count": 55,
     "metadata": {},
     "output_type": "execute_result"
    }
   ],
   "source": [
    "predito_ArvoreDecisao"
   ]
  },
  {
   "cell_type": "markdown",
   "metadata": {
    "id": "lfmj_l6ztF5J"
   },
   "source": [
    "# 5 - Validação dos modelos"
   ]
  },
  {
   "cell_type": "markdown",
   "metadata": {
    "id": "5LcpGgohtOM5"
   },
   "source": [
    "## 5.1 - Matriz de confusão\n",
    "\n"
   ]
  },
  {
   "cell_type": "markdown",
   "metadata": {
    "id": "BbHrkrAnxhmv"
   },
   "source": [
    "![image.png](data:image/png;base64,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)"
   ]
  },
  {
   "cell_type": "code",
   "execution_count": 56,
   "metadata": {
    "executionInfo": {
     "elapsed": 280,
     "status": "ok",
     "timestamp": 1652940965357,
     "user": {
      "displayName": "Ana Clara Mioto",
      "userId": "02280775085590012326"
     },
     "user_tz": 180
    },
    "id": "dIhkghN1tM3d"
   },
   "outputs": [],
   "source": [
    "from sklearn.metrics import confusion_matrix"
   ]
  },
  {
   "cell_type": "code",
   "execution_count": 57,
   "metadata": {
    "colab": {
     "base_uri": "https://localhost:8080/"
    },
    "executionInfo": {
     "elapsed": 238,
     "status": "ok",
     "timestamp": 1652941022364,
     "user": {
      "displayName": "Ana Clara Mioto",
      "userId": "02280775085590012326"
     },
     "user_tz": 180
    },
    "id": "vy5vfPQ7mnmP",
    "outputId": "37e5c298-897d-4ecd-a3f5-713859ad41af"
   },
   "outputs": [
    {
     "name": "stdout",
     "output_type": "stream",
     "text": [
      "[[1241  328]\n",
      " [ 247 1289]]\n"
     ]
    }
   ],
   "source": [
    "print(confusion_matrix(y_teste, predito_knn))"
   ]
  },
  {
   "cell_type": "code",
   "execution_count": 58,
   "metadata": {
    "colab": {
     "base_uri": "https://localhost:8080/"
    },
    "executionInfo": {
     "elapsed": 245,
     "status": "ok",
     "timestamp": 1652941106688,
     "user": {
      "displayName": "Ana Clara Mioto",
      "userId": "02280775085590012326"
     },
     "user_tz": 180
    },
    "id": "Y_TkgT9pmnj3",
    "outputId": "5199e1bc-3a15-49e3-ca18-ccf720b3c803"
   },
   "outputs": [
    {
     "name": "stdout",
     "output_type": "stream",
     "text": [
      "[[1050  519]\n",
      " [ 242 1294]]\n"
     ]
    }
   ],
   "source": [
    "print(confusion_matrix(y_teste, predito_BNb))"
   ]
  },
  {
   "cell_type": "code",
   "execution_count": 59,
   "metadata": {
    "colab": {
     "base_uri": "https://localhost:8080/"
    },
    "executionInfo": {
     "elapsed": 235,
     "status": "ok",
     "timestamp": 1652941179888,
     "user": {
      "displayName": "Ana Clara Mioto",
      "userId": "02280775085590012326"
     },
     "user_tz": 180
    },
    "id": "hNAbk_Pimnhw",
    "outputId": "448ae2a9-8a67-44a8-94c5-22742391fb99"
   },
   "outputs": [
    {
     "name": "stdout",
     "output_type": "stream",
     "text": [
      "[[1249  320]\n",
      " [ 277 1259]]\n"
     ]
    }
   ],
   "source": [
    "print(confusion_matrix(y_teste, predito_ArvoreDecisao))"
   ]
  },
  {
   "cell_type": "markdown",
   "metadata": {
    "id": "sQb7vnC12XUf"
   },
   "source": [
    "## 5.2 - Acurácia\n",
    "A partir do calculo da matriz de confusão conseguimos inferir outras métricas, como por exemplo a acurária.\n",
    "\n",
    "\n",
    "\n",
    "\n",
    "$ACC$ = ${TP + TN \\over TP + FP + TN + FN}$"
   ]
  },
  {
   "cell_type": "code",
   "execution_count": 60,
   "metadata": {
    "executionInfo": {
     "elapsed": 219,
     "status": "ok",
     "timestamp": 1652941430435,
     "user": {
      "displayName": "Ana Clara Mioto",
      "userId": "02280775085590012326"
     },
     "user_tz": 180
    },
    "id": "Ng67mpWk2af1"
   },
   "outputs": [],
   "source": [
    "from sklearn.metrics import accuracy_score"
   ]
  },
  {
   "cell_type": "code",
   "execution_count": 61,
   "metadata": {
    "colab": {
     "base_uri": "https://localhost:8080/"
    },
    "executionInfo": {
     "elapsed": 311,
     "status": "ok",
     "timestamp": 1652941478000,
     "user": {
      "displayName": "Ana Clara Mioto",
      "userId": "02280775085590012326"
     },
     "user_tz": 180
    },
    "id": "gp4Purjf2kZe",
    "outputId": "8d0522dd-0b4b-4e02-da0d-efa85751e728"
   },
   "outputs": [
    {
     "name": "stdout",
     "output_type": "stream",
     "text": [
      "0.8148148148148148\n"
     ]
    }
   ],
   "source": [
    "#modelo KNN\n",
    "print(accuracy_score(y_teste, predito_knn))"
   ]
  },
  {
   "cell_type": "code",
   "execution_count": 62,
   "metadata": {
    "colab": {
     "base_uri": "https://localhost:8080/"
    },
    "executionInfo": {
     "elapsed": 227,
     "status": "ok",
     "timestamp": 1652941517250,
     "user": {
      "displayName": "Ana Clara Mioto",
      "userId": "02280775085590012326"
     },
     "user_tz": 180
    },
    "id": "7JrJXLJr2loH",
    "outputId": "53a1de2f-3e06-4dbd-fbc2-ddfcb77afac8"
   },
   "outputs": [
    {
     "name": "stdout",
     "output_type": "stream",
     "text": [
      "0.7549114331723027\n"
     ]
    }
   ],
   "source": [
    "#modelo Bernoulli de naive bayes\n",
    "print(accuracy_score(y_teste, predito_BNb))"
   ]
  },
  {
   "cell_type": "code",
   "execution_count": 63,
   "metadata": {
    "colab": {
     "base_uri": "https://localhost:8080/"
    },
    "executionInfo": {
     "elapsed": 250,
     "status": "ok",
     "timestamp": 1652941559246,
     "user": {
      "displayName": "Ana Clara Mioto",
      "userId": "02280775085590012326"
     },
     "user_tz": 180
    },
    "id": "BkvmkoN92nBX",
    "outputId": "25a1f793-a7db-43ab-90cd-7a9164cd2268"
   },
   "outputs": [
    {
     "name": "stdout",
     "output_type": "stream",
     "text": [
      "0.8077294685990338\n"
     ]
    }
   ],
   "source": [
    "#modelo árvore de decisão\n",
    "print(accuracy_score(y_teste, predito_ArvoreDecisao))"
   ]
  },
  {
   "cell_type": "markdown",
   "metadata": {
    "id": "kfzcKhw42tmX"
   },
   "source": [
    "## 5.3 - Precisão\n",
    "\n",
    "Outra métrica importante é a precisão, que calcula quantos foram classificados corretamento como positivos ($TP$).\n",
    "\n",
    "$PS$ = ${TP \\over TP + FP}$"
   ]
  },
  {
   "cell_type": "code",
   "execution_count": 64,
   "metadata": {
    "executionInfo": {
     "elapsed": 247,
     "status": "ok",
     "timestamp": 1652941742672,
     "user": {
      "displayName": "Ana Clara Mioto",
      "userId": "02280775085590012326"
     },
     "user_tz": 180
    },
    "id": "BM4AbIm62wP6"
   },
   "outputs": [],
   "source": [
    "from sklearn.metrics import precision_score"
   ]
  },
  {
   "cell_type": "code",
   "execution_count": 65,
   "metadata": {
    "colab": {
     "base_uri": "https://localhost:8080/"
    },
    "executionInfo": {
     "elapsed": 246,
     "status": "ok",
     "timestamp": 1652941780254,
     "user": {
      "displayName": "Ana Clara Mioto",
      "userId": "02280775085590012326"
     },
     "user_tz": 180
    },
    "id": "hBD4K9r523g4",
    "outputId": "766a3c88-ec36-464f-c992-f3fe02925eda"
   },
   "outputs": [
    {
     "name": "stdout",
     "output_type": "stream",
     "text": [
      "0.7971552257266543\n"
     ]
    }
   ],
   "source": [
    "#modelo KNN\n",
    "print(precision_score(y_teste, predito_knn))"
   ]
  },
  {
   "cell_type": "code",
   "execution_count": 66,
   "metadata": {
    "colab": {
     "base_uri": "https://localhost:8080/"
    },
    "executionInfo": {
     "elapsed": 245,
     "status": "ok",
     "timestamp": 1652941821700,
     "user": {
      "displayName": "Ana Clara Mioto",
      "userId": "02280775085590012326"
     },
     "user_tz": 180
    },
    "id": "mUJumEYp24rf",
    "outputId": "2e123a15-9ae7-48af-9202-650ff221d8f5"
   },
   "outputs": [
    {
     "name": "stdout",
     "output_type": "stream",
     "text": [
      "0.7137341423055709\n"
     ]
    }
   ],
   "source": [
    "#modelo Bernoulli de naive bayes\n",
    "print(precision_score(y_teste, predito_BNb))"
   ]
  },
  {
   "cell_type": "code",
   "execution_count": 67,
   "metadata": {
    "colab": {
     "base_uri": "https://localhost:8080/"
    },
    "executionInfo": {
     "elapsed": 231,
     "status": "ok",
     "timestamp": 1652941837562,
     "user": {
      "displayName": "Ana Clara Mioto",
      "userId": "02280775085590012326"
     },
     "user_tz": 180
    },
    "id": "ST2dcOPJ25IS",
    "outputId": "b2716f09-35eb-4bfb-ade5-6317f84e3978"
   },
   "outputs": [
    {
     "name": "stdout",
     "output_type": "stream",
     "text": [
      "0.7973400886637112\n"
     ]
    }
   ],
   "source": [
    "#modelo árvore de decisão\n",
    "print(precision_score(y_teste, predito_ArvoreDecisao))"
   ]
  },
  {
   "cell_type": "markdown",
   "metadata": {
    "id": "TW59AoyU3DvW"
   },
   "source": [
    "## 5.4 - Recall\n",
    "\n",
    "Outra métrica importante é a Recall ou revocação ou ainda sensibilidade, que calcula o quão bom o modelo está para classificar corretamente um resultado positivo ($TP$).\n",
    "\n",
    "$RC$ = ${TP \\over TP + FN}$"
   ]
  },
  {
   "cell_type": "code",
   "execution_count": 68,
   "metadata": {
    "executionInfo": {
     "elapsed": 263,
     "status": "ok",
     "timestamp": 1652942160529,
     "user": {
      "displayName": "Ana Clara Mioto",
      "userId": "02280775085590012326"
     },
     "user_tz": 180
    },
    "id": "SGX6E4Pi3LCt"
   },
   "outputs": [],
   "source": [
    "from sklearn.metrics import recall_score"
   ]
  },
  {
   "cell_type": "code",
   "execution_count": 69,
   "metadata": {
    "colab": {
     "base_uri": "https://localhost:8080/"
    },
    "executionInfo": {
     "elapsed": 267,
     "status": "ok",
     "timestamp": 1652942178072,
     "user": {
      "displayName": "Ana Clara Mioto",
      "userId": "02280775085590012326"
     },
     "user_tz": 180
    },
    "id": "CVEe2W_B3OTc",
    "outputId": "7902e8ee-01f9-4dfd-fbd8-4673dd20dfdb"
   },
   "outputs": [
    {
     "name": "stdout",
     "output_type": "stream",
     "text": [
      "0.8391927083333334\n"
     ]
    }
   ],
   "source": [
    "#modelo KNN\n",
    "print(recall_score(y_teste, predito_knn))"
   ]
  },
  {
   "cell_type": "code",
   "execution_count": 70,
   "metadata": {
    "colab": {
     "base_uri": "https://localhost:8080/"
    },
    "executionInfo": {
     "elapsed": 267,
     "status": "ok",
     "timestamp": 1652942220720,
     "user": {
      "displayName": "Ana Clara Mioto",
      "userId": "02280775085590012326"
     },
     "user_tz": 180
    },
    "id": "edPMCLA93Pw_",
    "outputId": "a1ac5a8d-ff2a-4070-9849-b748acf1e1aa"
   },
   "outputs": [
    {
     "name": "stdout",
     "output_type": "stream",
     "text": [
      "0.8424479166666666\n"
     ]
    }
   ],
   "source": [
    "#modelo Bernoulli de naive bayes\n",
    "print(recall_score(y_teste, predito_BNb))"
   ]
  },
  {
   "cell_type": "code",
   "execution_count": 71,
   "metadata": {
    "colab": {
     "base_uri": "https://localhost:8080/"
    },
    "executionInfo": {
     "elapsed": 235,
     "status": "ok",
     "timestamp": 1652942259017,
     "user": {
      "displayName": "Ana Clara Mioto",
      "userId": "02280775085590012326"
     },
     "user_tz": 180
    },
    "id": "4Wk5-4ej3Q_3",
    "outputId": "388ec9a8-724e-46b7-8921-c6ff22b492fc"
   },
   "outputs": [
    {
     "name": "stdout",
     "output_type": "stream",
     "text": [
      "0.8196614583333334\n"
     ]
    }
   ],
   "source": [
    "#modelo árvore de decisão\n",
    "print(recall_score(y_teste, predito_ArvoreDecisao))"
   ]
  },
  {
   "cell_type": "markdown",
   "metadata": {
    "id": "4O7N26Fg3XwI"
   },
   "source": [
    "## 5.5 - Escolhendo o melhor modelo\n"
   ]
  },
  {
   "cell_type": "code",
   "execution_count": 72,
   "metadata": {
    "colab": {
     "base_uri": "https://localhost:8080/"
    },
    "executionInfo": {
     "elapsed": 232,
     "status": "ok",
     "timestamp": 1652942539077,
     "user": {
      "displayName": "Ana Clara Mioto",
      "userId": "02280775085590012326"
     },
     "user_tz": 180
    },
    "id": "RJ5Ls9lx3pfI",
    "outputId": "1cf93bac-bf6f-4f84-ac84-ef2df01f2778"
   },
   "outputs": [
    {
     "name": "stdout",
     "output_type": "stream",
     "text": [
      "Modelo KNN:  0.7971552257266543\n",
      "Modelo Bernoulli de Naive Bayes:  0.7137341423055709\n",
      "Modelo Árvore de Decisão:  0.7973400886637112\n"
     ]
    }
   ],
   "source": [
    "#Exemplo - análise das precisões calculadas anteriormente\n",
    "print('Modelo KNN: ', precision_score(y_teste, predito_knn))\n",
    "print('Modelo Bernoulli de Naive Bayes: ', precision_score(y_teste, predito_BNb))\n",
    "print('Modelo Árvore de Decisão: ', precision_score(y_teste, predito_ArvoreDecisao))"
   ]
  },
  {
   "cell_type": "code",
   "execution_count": null,
   "metadata": {},
   "outputs": [],
   "source": []
  }
 ],
 "metadata": {
  "colab": {
   "collapsed_sections": [
    "zCcuXt0FZfNe"
   ],
   "name": "Projeto_ML.ipynb",
   "provenance": []
  },
  "interpreter": {
   "hash": "df87b94f50c6b8081a9a425f6ade537f06441a824b7d68371eb29c5a5eb2838b"
  },
  "kernelspec": {
   "display_name": "Python 3 (ipykernel)",
   "language": "python",
   "name": "python3"
  },
  "language_info": {
   "codemirror_mode": {
    "name": "ipython",
    "version": 3
   },
   "file_extension": ".py",
   "mimetype": "text/x-python",
   "name": "python",
   "nbconvert_exporter": "python",
   "pygments_lexer": "ipython3",
   "version": "3.9.12"
  }
 },
 "nbformat": 4,
 "nbformat_minor": 1
}
